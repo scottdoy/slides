{
  "nbformat": 4,
  "nbformat_minor": 0,
  "metadata": {
    "colab": {
      "name": "06-sklearn-pipelines.ipynb",
      "provenance": [],
      "collapsed_sections": [
        "ANy-JTO-2PWu",
        "aoRMlf4EqeDc",
        "LYvrOozCvo7t"
      ]
    },
    "kernelspec": {
      "name": "python3",
      "display_name": "Python 3"
    }
  },
  "cells": [
    {
      "cell_type": "markdown",
      "metadata": {
        "id": "h67cJPWWXXW2"
      },
      "source": [
        "# Introduction"
      ]
    },
    {
      "cell_type": "markdown",
      "metadata": {
        "id": "DvjWJrQR5TB6"
      },
      "source": [
        "In this notebook, I'll be demonstrating [Pipelines]() in `sklearn`. \n",
        "\n",
        "If you haven't already, please refer to [01-data-exploration.ipynb](), as that notebook describes most of the data loading and pre-processing steps that we'll perform at the beginning of this notebook."
      ]
    },
    {
      "cell_type": "markdown",
      "metadata": {
        "id": "uowiKaAjbis0"
      },
      "source": [
        "## About Pipelines"
      ]
    },
    {
      "cell_type": "markdown",
      "metadata": {
        "id": "NTiT1WyRbm27"
      },
      "source": [
        "Pipelines are a **convenience** of the `sklearn` package. You can get by perfectly fine without them, but *with* them, a lot of the boilerplate code is reduced.\n",
        "\n",
        "As per the [API Reference Page on Pipelines](https://scikit-learn.org/stable/modules/generated/sklearn.pipeline.Pipeline.html):\n",
        "\n",
        "> Sequentially apply a list of transforms and a final estimator. Intermediate steps of the pipeline must be ‘transforms’, that is, they must implement fit and transform methods. The final estimator only needs to implement fit. The transformers in the pipeline can be cached using memory argument.\n",
        "> \n",
        "> The purpose of the pipeline is to assemble several steps that can be cross-validated together while setting different parameters. For this, it enables setting parameters of the various steps using their names and the parameter name separated by a ‘__’.\n",
        "\n",
        "Why should you use them?\n",
        "\n",
        "- **Convenience and encapsulation**: They can help to keep multiple steps of your code organized, as you only have to call `fit()` and `transform()` once on each dataset\n",
        "- **Parameter Selection**: You can quickly look at hundreds or thousands of example pipelines and select the best one based on some criteria.\n",
        "- **Safety**: They reduce errors by having to apply similar steps to different datasets (e.g. training and testing)\n",
        "\n",
        "To demonstrate this, we will first show what a typical machine learning process looks like *without* pipelines, then rewrite *with* a pipeline. "
      ]
    },
    {
      "cell_type": "markdown",
      "metadata": {
        "id": "tauacz9lXZ9X"
      },
      "source": [
        "# Preliminary Steps"
      ]
    },
    {
      "cell_type": "markdown",
      "metadata": {
        "id": "5jRjrWSeeX8G"
      },
      "source": [
        "Preliminary steps like package import and data loading will be the same, regardless of which approach you use. So let's do these first, up to (and including) creating a train / test split of the data."
      ]
    },
    {
      "cell_type": "markdown",
      "metadata": {
        "id": "SjS8tLJKqVeN"
      },
      "source": [
        "## Imports"
      ]
    },
    {
      "cell_type": "code",
      "metadata": {
        "id": "ymicpVB5B7O5"
      },
      "source": [
        "import os\n",
        "import pandas as pd\n",
        "import numpy as np\n",
        "\n",
        "# We use two different plotting libraries, depending on which kind of plot we want\n",
        "import matplotlib.pyplot as plt\n",
        "import seaborn as sns\n",
        "\n",
        "# Set an option for Pandas to display smaller floating-point numbers\n",
        "pd.options.display.float_format = '{:,.2f}'.format\n",
        "\n",
        "# SKLearn Imports\n",
        "from sklearn import metrics\n",
        "\n",
        "# Turn off warnings\n",
        "import warnings\n",
        "warnings.filterwarnings(\"ignore\")"
      ],
      "execution_count": null,
      "outputs": []
    },
    {
      "cell_type": "markdown",
      "metadata": {
        "id": "xUebePkRqW0I"
      },
      "source": [
        "## Data Loading"
      ]
    },
    {
      "cell_type": "code",
      "metadata": {
        "id": "zZEifrykqM-Q",
        "colab": {
          "base_uri": "https://localhost:8080/"
        },
        "outputId": "1f0643c9-0c2e-43f5-fa96-8737602685ad"
      },
      "source": [
        "# Need to get Google Drive access\n",
        "from google.colab import drive\n",
        "drive.mount('/content/gdrive')"
      ],
      "execution_count": null,
      "outputs": [
        {
          "output_type": "stream",
          "text": [
            "Mounted at /content/gdrive\n"
          ],
          "name": "stdout"
        }
      ]
    },
    {
      "cell_type": "code",
      "metadata": {
        "id": "iFq062M3Glre"
      },
      "source": [
        "# Load the dataset into a Pandas dataframe\n",
        "data_dir = os.path.join('/content/gdrive/My Drive/classes/be432-2021/notebooks/wisconsin_breast_cancer_data.csv')\n",
        "df = pd.read_csv(data_dir)\n",
        "\n",
        "# Since the \"ID\" column is a unique identifier, we can remove it as a column and instead set it as the index of the dataframe\n",
        "df = df.set_index('id')"
      ],
      "execution_count": null,
      "outputs": []
    },
    {
      "cell_type": "code",
      "metadata": {
        "id": "8bxyRr61CzuX",
        "colab": {
          "base_uri": "https://localhost:8080/",
          "height": 275
        },
        "outputId": "6a8aa8b7-3545-416f-c256-0c70cf1e2bca"
      },
      "source": [
        "df.head()"
      ],
      "execution_count": null,
      "outputs": [
        {
          "output_type": "execute_result",
          "data": {
            "text/html": [
              "<div>\n",
              "<style scoped>\n",
              "    .dataframe tbody tr th:only-of-type {\n",
              "        vertical-align: middle;\n",
              "    }\n",
              "\n",
              "    .dataframe tbody tr th {\n",
              "        vertical-align: top;\n",
              "    }\n",
              "\n",
              "    .dataframe thead th {\n",
              "        text-align: right;\n",
              "    }\n",
              "</style>\n",
              "<table border=\"1\" class=\"dataframe\">\n",
              "  <thead>\n",
              "    <tr style=\"text-align: right;\">\n",
              "      <th></th>\n",
              "      <th>diagnosis</th>\n",
              "      <th>radius_mean</th>\n",
              "      <th>texture_mean</th>\n",
              "      <th>perimeter_mean</th>\n",
              "      <th>area_mean</th>\n",
              "      <th>smoothness_mean</th>\n",
              "      <th>compactness_mean</th>\n",
              "      <th>concavity_mean</th>\n",
              "      <th>concave points_mean</th>\n",
              "      <th>symmetry_mean</th>\n",
              "      <th>fractal_dimension_mean</th>\n",
              "      <th>radius_se</th>\n",
              "      <th>texture_se</th>\n",
              "      <th>perimeter_se</th>\n",
              "      <th>area_se</th>\n",
              "      <th>smoothness_se</th>\n",
              "      <th>compactness_se</th>\n",
              "      <th>concavity_se</th>\n",
              "      <th>concave points_se</th>\n",
              "      <th>symmetry_se</th>\n",
              "      <th>fractal_dimension_se</th>\n",
              "      <th>radius_worst</th>\n",
              "      <th>texture_worst</th>\n",
              "      <th>perimeter_worst</th>\n",
              "      <th>area_worst</th>\n",
              "      <th>smoothness_worst</th>\n",
              "      <th>compactness_worst</th>\n",
              "      <th>concavity_worst</th>\n",
              "      <th>concave points_worst</th>\n",
              "      <th>symmetry_worst</th>\n",
              "      <th>fractal_dimension_worst</th>\n",
              "    </tr>\n",
              "    <tr>\n",
              "      <th>id</th>\n",
              "      <th></th>\n",
              "      <th></th>\n",
              "      <th></th>\n",
              "      <th></th>\n",
              "      <th></th>\n",
              "      <th></th>\n",
              "      <th></th>\n",
              "      <th></th>\n",
              "      <th></th>\n",
              "      <th></th>\n",
              "      <th></th>\n",
              "      <th></th>\n",
              "      <th></th>\n",
              "      <th></th>\n",
              "      <th></th>\n",
              "      <th></th>\n",
              "      <th></th>\n",
              "      <th></th>\n",
              "      <th></th>\n",
              "      <th></th>\n",
              "      <th></th>\n",
              "      <th></th>\n",
              "      <th></th>\n",
              "      <th></th>\n",
              "      <th></th>\n",
              "      <th></th>\n",
              "      <th></th>\n",
              "      <th></th>\n",
              "      <th></th>\n",
              "      <th></th>\n",
              "      <th></th>\n",
              "    </tr>\n",
              "  </thead>\n",
              "  <tbody>\n",
              "    <tr>\n",
              "      <th>842302</th>\n",
              "      <td>M</td>\n",
              "      <td>17.99</td>\n",
              "      <td>10.38</td>\n",
              "      <td>122.80</td>\n",
              "      <td>1,001.00</td>\n",
              "      <td>0.12</td>\n",
              "      <td>0.28</td>\n",
              "      <td>0.30</td>\n",
              "      <td>0.15</td>\n",
              "      <td>0.24</td>\n",
              "      <td>0.08</td>\n",
              "      <td>1.09</td>\n",
              "      <td>0.91</td>\n",
              "      <td>8.59</td>\n",
              "      <td>153.40</td>\n",
              "      <td>0.01</td>\n",
              "      <td>0.05</td>\n",
              "      <td>0.05</td>\n",
              "      <td>0.02</td>\n",
              "      <td>0.03</td>\n",
              "      <td>0.01</td>\n",
              "      <td>25.38</td>\n",
              "      <td>17.33</td>\n",
              "      <td>184.60</td>\n",
              "      <td>2,019.00</td>\n",
              "      <td>0.16</td>\n",
              "      <td>0.67</td>\n",
              "      <td>0.71</td>\n",
              "      <td>0.27</td>\n",
              "      <td>0.46</td>\n",
              "      <td>0.12</td>\n",
              "    </tr>\n",
              "    <tr>\n",
              "      <th>842517</th>\n",
              "      <td>M</td>\n",
              "      <td>20.57</td>\n",
              "      <td>17.77</td>\n",
              "      <td>132.90</td>\n",
              "      <td>1,326.00</td>\n",
              "      <td>0.08</td>\n",
              "      <td>0.08</td>\n",
              "      <td>0.09</td>\n",
              "      <td>0.07</td>\n",
              "      <td>0.18</td>\n",
              "      <td>0.06</td>\n",
              "      <td>0.54</td>\n",
              "      <td>0.73</td>\n",
              "      <td>3.40</td>\n",
              "      <td>74.08</td>\n",
              "      <td>0.01</td>\n",
              "      <td>0.01</td>\n",
              "      <td>0.02</td>\n",
              "      <td>0.01</td>\n",
              "      <td>0.01</td>\n",
              "      <td>0.00</td>\n",
              "      <td>24.99</td>\n",
              "      <td>23.41</td>\n",
              "      <td>158.80</td>\n",
              "      <td>1,956.00</td>\n",
              "      <td>0.12</td>\n",
              "      <td>0.19</td>\n",
              "      <td>0.24</td>\n",
              "      <td>0.19</td>\n",
              "      <td>0.28</td>\n",
              "      <td>0.09</td>\n",
              "    </tr>\n",
              "    <tr>\n",
              "      <th>84300903</th>\n",
              "      <td>M</td>\n",
              "      <td>19.69</td>\n",
              "      <td>21.25</td>\n",
              "      <td>130.00</td>\n",
              "      <td>1,203.00</td>\n",
              "      <td>0.11</td>\n",
              "      <td>0.16</td>\n",
              "      <td>0.20</td>\n",
              "      <td>0.13</td>\n",
              "      <td>0.21</td>\n",
              "      <td>0.06</td>\n",
              "      <td>0.75</td>\n",
              "      <td>0.79</td>\n",
              "      <td>4.58</td>\n",
              "      <td>94.03</td>\n",
              "      <td>0.01</td>\n",
              "      <td>0.04</td>\n",
              "      <td>0.04</td>\n",
              "      <td>0.02</td>\n",
              "      <td>0.02</td>\n",
              "      <td>0.00</td>\n",
              "      <td>23.57</td>\n",
              "      <td>25.53</td>\n",
              "      <td>152.50</td>\n",
              "      <td>1,709.00</td>\n",
              "      <td>0.14</td>\n",
              "      <td>0.42</td>\n",
              "      <td>0.45</td>\n",
              "      <td>0.24</td>\n",
              "      <td>0.36</td>\n",
              "      <td>0.09</td>\n",
              "    </tr>\n",
              "    <tr>\n",
              "      <th>84348301</th>\n",
              "      <td>M</td>\n",
              "      <td>11.42</td>\n",
              "      <td>20.38</td>\n",
              "      <td>77.58</td>\n",
              "      <td>386.10</td>\n",
              "      <td>0.14</td>\n",
              "      <td>0.28</td>\n",
              "      <td>0.24</td>\n",
              "      <td>0.11</td>\n",
              "      <td>0.26</td>\n",
              "      <td>0.10</td>\n",
              "      <td>0.50</td>\n",
              "      <td>1.16</td>\n",
              "      <td>3.44</td>\n",
              "      <td>27.23</td>\n",
              "      <td>0.01</td>\n",
              "      <td>0.07</td>\n",
              "      <td>0.06</td>\n",
              "      <td>0.02</td>\n",
              "      <td>0.06</td>\n",
              "      <td>0.01</td>\n",
              "      <td>14.91</td>\n",
              "      <td>26.50</td>\n",
              "      <td>98.87</td>\n",
              "      <td>567.70</td>\n",
              "      <td>0.21</td>\n",
              "      <td>0.87</td>\n",
              "      <td>0.69</td>\n",
              "      <td>0.26</td>\n",
              "      <td>0.66</td>\n",
              "      <td>0.17</td>\n",
              "    </tr>\n",
              "    <tr>\n",
              "      <th>84358402</th>\n",
              "      <td>M</td>\n",
              "      <td>20.29</td>\n",
              "      <td>14.34</td>\n",
              "      <td>135.10</td>\n",
              "      <td>1,297.00</td>\n",
              "      <td>0.10</td>\n",
              "      <td>0.13</td>\n",
              "      <td>0.20</td>\n",
              "      <td>0.10</td>\n",
              "      <td>0.18</td>\n",
              "      <td>0.06</td>\n",
              "      <td>0.76</td>\n",
              "      <td>0.78</td>\n",
              "      <td>5.44</td>\n",
              "      <td>94.44</td>\n",
              "      <td>0.01</td>\n",
              "      <td>0.02</td>\n",
              "      <td>0.06</td>\n",
              "      <td>0.02</td>\n",
              "      <td>0.02</td>\n",
              "      <td>0.01</td>\n",
              "      <td>22.54</td>\n",
              "      <td>16.67</td>\n",
              "      <td>152.20</td>\n",
              "      <td>1,575.00</td>\n",
              "      <td>0.14</td>\n",
              "      <td>0.20</td>\n",
              "      <td>0.40</td>\n",
              "      <td>0.16</td>\n",
              "      <td>0.24</td>\n",
              "      <td>0.08</td>\n",
              "    </tr>\n",
              "  </tbody>\n",
              "</table>\n",
              "</div>"
            ],
            "text/plain": [
              "         diagnosis  radius_mean  ...  symmetry_worst  fractal_dimension_worst\n",
              "id                               ...                                         \n",
              "842302           M        17.99  ...            0.46                     0.12\n",
              "842517           M        20.57  ...            0.28                     0.09\n",
              "84300903         M        19.69  ...            0.36                     0.09\n",
              "84348301         M        11.42  ...            0.66                     0.17\n",
              "84358402         M        20.29  ...            0.24                     0.08\n",
              "\n",
              "[5 rows x 31 columns]"
            ]
          },
          "metadata": {
            "tags": []
          },
          "execution_count": 5
        }
      ]
    },
    {
      "cell_type": "code",
      "metadata": {
        "id": "F7BEg93Mfoiq",
        "colab": {
          "base_uri": "https://localhost:8080/"
        },
        "outputId": "37783797-7a37-4177-cebb-446c529c3059"
      },
      "source": [
        "df.info()"
      ],
      "execution_count": null,
      "outputs": [
        {
          "output_type": "stream",
          "text": [
            "<class 'pandas.core.frame.DataFrame'>\n",
            "Int64Index: 569 entries, 842302 to 92751\n",
            "Data columns (total 31 columns):\n",
            " #   Column                   Non-Null Count  Dtype  \n",
            "---  ------                   --------------  -----  \n",
            " 0   diagnosis                569 non-null    object \n",
            " 1   radius_mean              569 non-null    float64\n",
            " 2   texture_mean             569 non-null    float64\n",
            " 3   perimeter_mean           569 non-null    float64\n",
            " 4   area_mean                569 non-null    float64\n",
            " 5   smoothness_mean          569 non-null    float64\n",
            " 6   compactness_mean         569 non-null    float64\n",
            " 7   concavity_mean           569 non-null    float64\n",
            " 8   concave points_mean      569 non-null    float64\n",
            " 9   symmetry_mean            569 non-null    float64\n",
            " 10  fractal_dimension_mean   569 non-null    float64\n",
            " 11  radius_se                569 non-null    float64\n",
            " 12  texture_se               569 non-null    float64\n",
            " 13  perimeter_se             569 non-null    float64\n",
            " 14  area_se                  569 non-null    float64\n",
            " 15  smoothness_se            569 non-null    float64\n",
            " 16  compactness_se           569 non-null    float64\n",
            " 17  concavity_se             569 non-null    float64\n",
            " 18  concave points_se        569 non-null    float64\n",
            " 19  symmetry_se              569 non-null    float64\n",
            " 20  fractal_dimension_se     569 non-null    float64\n",
            " 21  radius_worst             569 non-null    float64\n",
            " 22  texture_worst            569 non-null    float64\n",
            " 23  perimeter_worst          569 non-null    float64\n",
            " 24  area_worst               569 non-null    float64\n",
            " 25  smoothness_worst         569 non-null    float64\n",
            " 26  compactness_worst        569 non-null    float64\n",
            " 27  concavity_worst          569 non-null    float64\n",
            " 28  concave points_worst     569 non-null    float64\n",
            " 29  symmetry_worst           569 non-null    float64\n",
            " 30  fractal_dimension_worst  569 non-null    float64\n",
            "dtypes: float64(30), object(1)\n",
            "memory usage: 142.2+ KB\n"
          ],
          "name": "stdout"
        }
      ]
    },
    {
      "cell_type": "markdown",
      "metadata": {
        "id": "OWuWDaimqaYU"
      },
      "source": [
        "## Train/Test Splitting"
      ]
    },
    {
      "cell_type": "code",
      "metadata": {
        "id": "OcadRPrJqTGM"
      },
      "source": [
        "# Stratified Split\n",
        "from sklearn.model_selection import StratifiedShuffleSplit\n",
        "\n",
        "# Create the splitting object\n",
        "split = StratifiedShuffleSplit(n_splits=1, test_size=0.3, random_state=42)\n",
        "\n",
        "# Apply the split to the data frame using the \"diagnosis\" column as our label\n",
        "# NOTE: you need to use `.iloc[]` here instead of `.loc[]` because we changed \n",
        "# the index of the dataframe.\n",
        "for train_index, test_index in split.split(df, df[\"diagnosis\"]):\n",
        "    train_set = df.iloc[train_index]\n",
        "    test_set = df.iloc[test_index]"
      ],
      "execution_count": null,
      "outputs": []
    },
    {
      "cell_type": "markdown",
      "metadata": {
        "id": "qmViXc_vhkRX"
      },
      "source": [
        "# ML Without Pipelines"
      ]
    },
    {
      "cell_type": "markdown",
      "metadata": {
        "id": "m5uFS5hVhz5l"
      },
      "source": [
        "## Summary"
      ]
    },
    {
      "cell_type": "markdown",
      "metadata": {
        "id": "SZ7iCIsWfuHi"
      },
      "source": [
        "Now that we've split our dataset, let's take a look at the steps we need to complete in order to classify this dataset.\n",
        "\n",
        "As you have already seen, most ML tasks boil down to a *training* and a *testing* phase. In general, you are *determining what to do* in the training steps, and then *applying those steps* to the testing data."
      ]
    },
    {
      "cell_type": "markdown",
      "metadata": {
        "id": "P3wqYxQdhw9q"
      },
      "source": [
        "**Training**\n",
        "\n",
        "1. Perform label encoding\n",
        "2. Determine how to scale our features, and scale them\n",
        "3. Select a subset of the most relevant, uncorrelated features\n",
        "4. Perform dimensionality reduction using PCA\n",
        "5. Train a classifier\n",
        "\n",
        "**Testing**\n",
        "\n",
        "1. Apply label encoding from #1\n",
        "2. Apply the scaling from #2\n",
        "3. Pluck the features selected in #3\n",
        "4. Apply the dimensionality reduction transform trained in #4\n",
        "5. Apply the classifier from #5\n",
        "6. Evaluate the results\n",
        "\n"
      ]
    },
    {
      "cell_type": "markdown",
      "metadata": {
        "id": "qRyZxfHah7Q7"
      },
      "source": [
        "We'll go through each of these without pipelines first."
      ]
    },
    {
      "cell_type": "markdown",
      "metadata": {
        "id": "7yjeJSgIjRDe"
      },
      "source": [
        "## Training"
      ]
    },
    {
      "cell_type": "markdown",
      "metadata": {
        "id": "xcfhxx20iAAh"
      },
      "source": [
        "### Label Encoding"
      ]
    },
    {
      "cell_type": "markdown",
      "metadata": {
        "id": "WDdtIYDdjMx0"
      },
      "source": [
        "Here we will split the data into training values and training labels. We'll make use of the `LabelEncoder` class to encode the classification labels as numbers."
      ]
    },
    {
      "cell_type": "code",
      "metadata": {
        "id": "8snsECMQqROj"
      },
      "source": [
        "from sklearn.preprocessing import LabelEncoder\n",
        "\n",
        "# First, separate out the values\n",
        "X_train = train_set.drop(['diagnosis'], axis=1)\n",
        "\n",
        "# Instantiate the label encoder\n",
        "label_encoder = LabelEncoder()\n",
        "\n",
        "# This compact line does the following:\n",
        "# 1. \"Fit\" the encoder to the diagnosis column (basically, \"here is a list of the category labels for the data\")\n",
        "# 2. \"Transform\" the labels (\"Convert the labels I just told you about to numbers\")\n",
        "# 3. Save the transformed labels as a new variable \n",
        "y_train = label_encoder.fit_transform(train_set['diagnosis'])"
      ],
      "execution_count": null,
      "outputs": []
    },
    {
      "cell_type": "code",
      "metadata": {
        "id": "h3SFFeP3jwYC",
        "colab": {
          "base_uri": "https://localhost:8080/",
          "height": 275
        },
        "outputId": "e669890b-fe5c-46f0-d399-f5132c517cdf"
      },
      "source": [
        "X_train.head()"
      ],
      "execution_count": null,
      "outputs": [
        {
          "output_type": "execute_result",
          "data": {
            "text/html": [
              "<div>\n",
              "<style scoped>\n",
              "    .dataframe tbody tr th:only-of-type {\n",
              "        vertical-align: middle;\n",
              "    }\n",
              "\n",
              "    .dataframe tbody tr th {\n",
              "        vertical-align: top;\n",
              "    }\n",
              "\n",
              "    .dataframe thead th {\n",
              "        text-align: right;\n",
              "    }\n",
              "</style>\n",
              "<table border=\"1\" class=\"dataframe\">\n",
              "  <thead>\n",
              "    <tr style=\"text-align: right;\">\n",
              "      <th></th>\n",
              "      <th>radius_mean</th>\n",
              "      <th>texture_mean</th>\n",
              "      <th>perimeter_mean</th>\n",
              "      <th>area_mean</th>\n",
              "      <th>smoothness_mean</th>\n",
              "      <th>compactness_mean</th>\n",
              "      <th>concavity_mean</th>\n",
              "      <th>concave points_mean</th>\n",
              "      <th>symmetry_mean</th>\n",
              "      <th>fractal_dimension_mean</th>\n",
              "      <th>radius_se</th>\n",
              "      <th>texture_se</th>\n",
              "      <th>perimeter_se</th>\n",
              "      <th>area_se</th>\n",
              "      <th>smoothness_se</th>\n",
              "      <th>compactness_se</th>\n",
              "      <th>concavity_se</th>\n",
              "      <th>concave points_se</th>\n",
              "      <th>symmetry_se</th>\n",
              "      <th>fractal_dimension_se</th>\n",
              "      <th>radius_worst</th>\n",
              "      <th>texture_worst</th>\n",
              "      <th>perimeter_worst</th>\n",
              "      <th>area_worst</th>\n",
              "      <th>smoothness_worst</th>\n",
              "      <th>compactness_worst</th>\n",
              "      <th>concavity_worst</th>\n",
              "      <th>concave points_worst</th>\n",
              "      <th>symmetry_worst</th>\n",
              "      <th>fractal_dimension_worst</th>\n",
              "    </tr>\n",
              "    <tr>\n",
              "      <th>id</th>\n",
              "      <th></th>\n",
              "      <th></th>\n",
              "      <th></th>\n",
              "      <th></th>\n",
              "      <th></th>\n",
              "      <th></th>\n",
              "      <th></th>\n",
              "      <th></th>\n",
              "      <th></th>\n",
              "      <th></th>\n",
              "      <th></th>\n",
              "      <th></th>\n",
              "      <th></th>\n",
              "      <th></th>\n",
              "      <th></th>\n",
              "      <th></th>\n",
              "      <th></th>\n",
              "      <th></th>\n",
              "      <th></th>\n",
              "      <th></th>\n",
              "      <th></th>\n",
              "      <th></th>\n",
              "      <th></th>\n",
              "      <th></th>\n",
              "      <th></th>\n",
              "      <th></th>\n",
              "      <th></th>\n",
              "      <th></th>\n",
              "      <th></th>\n",
              "      <th></th>\n",
              "    </tr>\n",
              "  </thead>\n",
              "  <tbody>\n",
              "    <tr>\n",
              "      <th>8610862</th>\n",
              "      <td>20.18</td>\n",
              "      <td>23.97</td>\n",
              "      <td>143.70</td>\n",
              "      <td>1,245.00</td>\n",
              "      <td>0.13</td>\n",
              "      <td>0.35</td>\n",
              "      <td>0.38</td>\n",
              "      <td>0.16</td>\n",
              "      <td>0.29</td>\n",
              "      <td>0.08</td>\n",
              "      <td>0.93</td>\n",
              "      <td>1.89</td>\n",
              "      <td>8.65</td>\n",
              "      <td>116.40</td>\n",
              "      <td>0.01</td>\n",
              "      <td>0.07</td>\n",
              "      <td>0.11</td>\n",
              "      <td>0.03</td>\n",
              "      <td>0.08</td>\n",
              "      <td>0.01</td>\n",
              "      <td>23.37</td>\n",
              "      <td>31.72</td>\n",
              "      <td>170.30</td>\n",
              "      <td>1,623.00</td>\n",
              "      <td>0.16</td>\n",
              "      <td>0.62</td>\n",
              "      <td>0.77</td>\n",
              "      <td>0.25</td>\n",
              "      <td>0.54</td>\n",
              "      <td>0.10</td>\n",
              "    </tr>\n",
              "    <tr>\n",
              "      <th>896839</th>\n",
              "      <td>16.03</td>\n",
              "      <td>15.51</td>\n",
              "      <td>105.80</td>\n",
              "      <td>793.20</td>\n",
              "      <td>0.09</td>\n",
              "      <td>0.14</td>\n",
              "      <td>0.12</td>\n",
              "      <td>0.07</td>\n",
              "      <td>0.18</td>\n",
              "      <td>0.06</td>\n",
              "      <td>0.34</td>\n",
              "      <td>0.75</td>\n",
              "      <td>2.63</td>\n",
              "      <td>33.27</td>\n",
              "      <td>0.01</td>\n",
              "      <td>0.03</td>\n",
              "      <td>0.04</td>\n",
              "      <td>0.01</td>\n",
              "      <td>0.01</td>\n",
              "      <td>0.00</td>\n",
              "      <td>18.76</td>\n",
              "      <td>21.98</td>\n",
              "      <td>124.30</td>\n",
              "      <td>1,070.00</td>\n",
              "      <td>0.14</td>\n",
              "      <td>0.45</td>\n",
              "      <td>0.50</td>\n",
              "      <td>0.20</td>\n",
              "      <td>0.30</td>\n",
              "      <td>0.09</td>\n",
              "    </tr>\n",
              "    <tr>\n",
              "      <th>9013594</th>\n",
              "      <td>13.66</td>\n",
              "      <td>15.15</td>\n",
              "      <td>88.27</td>\n",
              "      <td>580.60</td>\n",
              "      <td>0.08</td>\n",
              "      <td>0.08</td>\n",
              "      <td>0.04</td>\n",
              "      <td>0.02</td>\n",
              "      <td>0.18</td>\n",
              "      <td>0.06</td>\n",
              "      <td>0.14</td>\n",
              "      <td>0.54</td>\n",
              "      <td>1.10</td>\n",
              "      <td>11.35</td>\n",
              "      <td>0.01</td>\n",
              "      <td>0.03</td>\n",
              "      <td>0.02</td>\n",
              "      <td>0.01</td>\n",
              "      <td>0.02</td>\n",
              "      <td>0.00</td>\n",
              "      <td>14.54</td>\n",
              "      <td>19.64</td>\n",
              "      <td>97.96</td>\n",
              "      <td>657.00</td>\n",
              "      <td>0.13</td>\n",
              "      <td>0.31</td>\n",
              "      <td>0.26</td>\n",
              "      <td>0.11</td>\n",
              "      <td>0.34</td>\n",
              "      <td>0.10</td>\n",
              "    </tr>\n",
              "    <tr>\n",
              "      <th>881094802</th>\n",
              "      <td>17.42</td>\n",
              "      <td>25.56</td>\n",
              "      <td>114.50</td>\n",
              "      <td>948.00</td>\n",
              "      <td>0.10</td>\n",
              "      <td>0.11</td>\n",
              "      <td>0.17</td>\n",
              "      <td>0.07</td>\n",
              "      <td>0.13</td>\n",
              "      <td>0.06</td>\n",
              "      <td>0.53</td>\n",
              "      <td>1.67</td>\n",
              "      <td>3.77</td>\n",
              "      <td>58.53</td>\n",
              "      <td>0.03</td>\n",
              "      <td>0.09</td>\n",
              "      <td>0.14</td>\n",
              "      <td>0.04</td>\n",
              "      <td>0.02</td>\n",
              "      <td>0.01</td>\n",
              "      <td>18.07</td>\n",
              "      <td>28.07</td>\n",
              "      <td>120.40</td>\n",
              "      <td>1,021.00</td>\n",
              "      <td>0.12</td>\n",
              "      <td>0.18</td>\n",
              "      <td>0.28</td>\n",
              "      <td>0.11</td>\n",
              "      <td>0.16</td>\n",
              "      <td>0.07</td>\n",
              "    </tr>\n",
              "    <tr>\n",
              "      <th>861598</th>\n",
              "      <td>14.64</td>\n",
              "      <td>15.24</td>\n",
              "      <td>95.77</td>\n",
              "      <td>651.90</td>\n",
              "      <td>0.11</td>\n",
              "      <td>0.13</td>\n",
              "      <td>0.10</td>\n",
              "      <td>0.07</td>\n",
              "      <td>0.21</td>\n",
              "      <td>0.06</td>\n",
              "      <td>0.51</td>\n",
              "      <td>0.74</td>\n",
              "      <td>3.81</td>\n",
              "      <td>42.76</td>\n",
              "      <td>0.01</td>\n",
              "      <td>0.04</td>\n",
              "      <td>0.04</td>\n",
              "      <td>0.02</td>\n",
              "      <td>0.02</td>\n",
              "      <td>0.00</td>\n",
              "      <td>16.34</td>\n",
              "      <td>18.24</td>\n",
              "      <td>109.40</td>\n",
              "      <td>803.60</td>\n",
              "      <td>0.13</td>\n",
              "      <td>0.31</td>\n",
              "      <td>0.26</td>\n",
              "      <td>0.14</td>\n",
              "      <td>0.32</td>\n",
              "      <td>0.08</td>\n",
              "    </tr>\n",
              "  </tbody>\n",
              "</table>\n",
              "</div>"
            ],
            "text/plain": [
              "           radius_mean  texture_mean  ...  symmetry_worst  fractal_dimension_worst\n",
              "id                                    ...                                         \n",
              "8610862          20.18         23.97  ...            0.54                     0.10\n",
              "896839           16.03         15.51  ...            0.30                     0.09\n",
              "9013594          13.66         15.15  ...            0.34                     0.10\n",
              "881094802        17.42         25.56  ...            0.16                     0.07\n",
              "861598           14.64         15.24  ...            0.32                     0.08\n",
              "\n",
              "[5 rows x 30 columns]"
            ]
          },
          "metadata": {
            "tags": []
          },
          "execution_count": 9
        }
      ]
    },
    {
      "cell_type": "code",
      "metadata": {
        "id": "Cp1eSgTZkdoW",
        "colab": {
          "base_uri": "https://localhost:8080/"
        },
        "outputId": "69bd90d6-ab3d-4238-cb3d-64eab7a9ce2a"
      },
      "source": [
        "y_train"
      ],
      "execution_count": null,
      "outputs": [
        {
          "output_type": "execute_result",
          "data": {
            "text/plain": [
              "array([1, 1, 0, 1, 0, 1, 0, 0, 1, 0, 0, 0, 0, 0, 0, 0, 0, 0, 1, 0, 0, 1,\n",
              "       1, 0, 1, 0, 0, 0, 0, 1, 1, 1, 0, 0, 0, 1, 0, 0, 0, 0, 1, 1, 1, 0,\n",
              "       0, 1, 1, 0, 0, 0, 0, 0, 1, 0, 0, 1, 0, 0, 0, 0, 0, 0, 1, 0, 1, 1,\n",
              "       0, 0, 1, 0, 0, 0, 0, 0, 1, 1, 0, 0, 1, 0, 0, 1, 0, 1, 1, 0, 0, 1,\n",
              "       1, 1, 1, 1, 1, 0, 0, 0, 0, 0, 0, 0, 0, 1, 0, 1, 0, 0, 0, 0, 1, 0,\n",
              "       0, 0, 0, 1, 1, 1, 0, 1, 1, 0, 0, 1, 0, 1, 1, 0, 0, 1, 1, 0, 1, 0,\n",
              "       0, 0, 0, 1, 0, 0, 0, 0, 0, 1, 1, 0, 0, 0, 1, 0, 1, 1, 1, 0, 1, 0,\n",
              "       1, 0, 0, 0, 0, 0, 1, 0, 0, 1, 1, 1, 1, 1, 0, 0, 0, 0, 1, 1, 1, 0,\n",
              "       0, 0, 0, 1, 0, 0, 1, 1, 0, 0, 1, 0, 1, 0, 1, 0, 1, 0, 1, 0, 0, 1,\n",
              "       1, 1, 0, 1, 0, 0, 0, 0, 0, 0, 0, 0, 1, 1, 0, 0, 1, 1, 1, 1, 1, 0,\n",
              "       0, 1, 0, 1, 0, 0, 1, 0, 0, 0, 0, 0, 0, 0, 0, 1, 0, 0, 1, 0, 1, 0,\n",
              "       1, 0, 0, 1, 0, 0, 1, 1, 1, 1, 0, 1, 0, 0, 1, 1, 0, 0, 0, 0, 1, 1,\n",
              "       0, 0, 1, 1, 1, 0, 0, 1, 1, 1, 0, 0, 1, 0, 1, 0, 0, 0, 1, 0, 0, 1,\n",
              "       0, 0, 0, 1, 0, 0, 1, 1, 0, 1, 1, 0, 0, 1, 0, 0, 1, 1, 0, 1, 0, 0,\n",
              "       1, 0, 0, 0, 0, 0, 0, 0, 1, 0, 0, 0, 0, 1, 1, 1, 0, 1, 0, 1, 0, 0,\n",
              "       1, 0, 0, 0, 1, 0, 0, 1, 0, 0, 1, 0, 0, 1, 0, 0, 0, 0, 0, 1, 1, 0,\n",
              "       1, 0, 1, 0, 1, 0, 1, 1, 0, 1, 0, 0, 0, 0, 1, 1, 0, 0, 0, 0, 0, 0,\n",
              "       1, 0, 0, 0, 0, 0, 1, 0, 0, 0, 0, 0, 0, 0, 0, 0, 0, 0, 0, 0, 0, 0,\n",
              "       0, 1])"
            ]
          },
          "metadata": {
            "tags": []
          },
          "execution_count": 10
        }
      ]
    },
    {
      "cell_type": "markdown",
      "metadata": {
        "id": "oGCTTk72k29X"
      },
      "source": [
        "### Feature Scaling"
      ]
    },
    {
      "cell_type": "code",
      "metadata": {
        "id": "PEiIWCTbk8qc",
        "colab": {
          "base_uri": "https://localhost:8080/"
        },
        "outputId": "614ef481-70d6-493f-d872-740a61fbe3af"
      },
      "source": [
        "from sklearn.preprocessing import StandardScaler\n",
        "\n",
        "# Let's use standard scaling: 0 mean, 1 standard deviation\n",
        "# Recall that this will be less sensitive to outliers than `MinMaxScaler`; \n",
        "# however, if your data contains a lot of outliers, you may want to use `RobustScaler` instead.\n",
        "feature_scaler = StandardScaler()\n",
        "\n",
        "# Fit the feature scaler -- tell it how much to adjust each feature to achieve a 0 mean, unit variance\n",
        "feature_scaler.fit(X_train)"
      ],
      "execution_count": null,
      "outputs": [
        {
          "output_type": "execute_result",
          "data": {
            "text/plain": [
              "StandardScaler(copy=True, with_mean=True, with_std=True)"
            ]
          },
          "metadata": {
            "tags": []
          },
          "execution_count": 11
        }
      ]
    },
    {
      "cell_type": "markdown",
      "metadata": {
        "id": "1_6GfFXSmEh4"
      },
      "source": [
        "Note that you can inspect the various \"properties\" of the trained feature scaler, just like you can with a lot of the objects in scikit-learn. For example, you can see the calculated mean and standard deviation for each feature:"
      ]
    },
    {
      "cell_type": "code",
      "metadata": {
        "id": "U53V9MkHmRtk",
        "colab": {
          "base_uri": "https://localhost:8080/"
        },
        "outputId": "3fdf6d65-cb3e-4244-b93d-d68488d36486"
      },
      "source": [
        "print(f\"Mean feature values, calculated on the training data:\")\n",
        "print(f\"{feature_scaler.mean_}\")\n",
        "print()\n",
        "print(f\"Standard Deviations:\")\n",
        "print(f\"{feature_scaler.scale_}\")"
      ],
      "execution_count": null,
      "outputs": [
        {
          "output_type": "stream",
          "text": [
            "Mean feature values, calculated on the training data:\n",
            "[1.41265025e+01 1.94382412e+01 9.19044221e+01 6.55325377e+02\n",
            " 9.58573869e-02 1.02647588e-01 8.84972003e-02 4.85348216e-02\n",
            " 1.81363568e-01 6.26196734e-02 4.06775377e-01 1.21737688e+00\n",
            " 2.86762814e+00 4.02961080e+01 6.92423869e-03 2.51423191e-02\n",
            " 3.22679437e-02 1.15826281e-02 2.04214045e-02 3.76143794e-03\n",
            " 1.62965930e+01 2.59209045e+01 1.07401181e+02 8.83117588e+02\n",
            " 1.32163342e-01 2.52405653e-01 2.73916236e-01 1.14698369e-01\n",
            " 2.91130905e-01 8.38609548e-02]\n",
            "\n",
            "Standard Deviations:\n",
            "[3.54873170e+00 4.31701058e+00 2.44169654e+01 3.53238866e+02\n",
            " 1.43831403e-02 5.34191595e-02 8.10656965e-02 3.92730887e-02\n",
            " 2.70897513e-02 7.12194920e-03 2.78241059e-01 5.56327961e-01\n",
            " 2.01248661e+00 4.35073944e+01 2.88515648e-03 1.78870284e-02\n",
            " 3.30502292e-02 6.24382865e-03 8.42772347e-03 2.68980117e-03\n",
            " 4.84642464e+00 6.10694992e+00 3.36685807e+01 5.66161567e+02\n",
            " 2.37659547e-02 1.57310781e-01 2.10611186e-01 6.64105068e-02\n",
            " 6.41103115e-02 1.82089648e-02]\n"
          ],
          "name": "stdout"
        }
      ]
    },
    {
      "cell_type": "markdown",
      "metadata": {
        "id": "8ajPvhw-mmhb"
      },
      "source": [
        "This will be very interesting / important later with pipelines..."
      ]
    },
    {
      "cell_type": "code",
      "metadata": {
        "id": "n6t3HX-umjpN"
      },
      "source": [
        "# Apply the learned feature scaling to the training data\n",
        "X_train_scaled = feature_scaler.transform(X_train)"
      ],
      "execution_count": null,
      "outputs": []
    },
    {
      "cell_type": "code",
      "metadata": {
        "id": "AVjnk-0xmyf4",
        "colab": {
          "base_uri": "https://localhost:8080/"
        },
        "outputId": "c76a3c44-b09e-4aa9-ddbe-a523a2f0ba59"
      },
      "source": [
        "# Verify that the scaling resulted in a mean of 0 and standard deviation of 1\n",
        "print(f\"Mean of scaled features:\")\n",
        "print(f\"{X_train_scaled.mean(axis=0)}\")\n",
        "\n",
        "print(f\"STD of scaled features:\")\n",
        "print(f\"{X_train_scaled.std(axis=0)}\")"
      ],
      "execution_count": null,
      "outputs": [
        {
          "output_type": "stream",
          "text": [
            "Mean of scaled features:\n",
            "[ 4.46320814e-17 -4.40741804e-16  7.93335247e-16  5.35584977e-17\n",
            " -1.66254503e-16 -1.00422183e-16 -1.29433036e-16  1.33896244e-17\n",
            "  1.55096483e-15  1.35123626e-15 -2.23160407e-18 -1.96381158e-16\n",
            "  0.00000000e+00 -1.33896244e-17 -2.76718905e-16 -1.38917353e-16\n",
            "  5.35584977e-17  2.71139894e-16 -3.12424570e-16  3.34740610e-18\n",
            " -1.78528326e-16 -3.92762316e-16  2.58866072e-16 -2.68908290e-16\n",
            " -1.56212285e-17  1.82991534e-16 -1.14927610e-16 -1.31664640e-16\n",
            " -3.48130235e-16  1.20506620e-16]\n",
            "STD of scaled features:\n",
            "[1. 1. 1. 1. 1. 1. 1. 1. 1. 1. 1. 1. 1. 1. 1. 1. 1. 1. 1. 1. 1. 1. 1. 1.\n",
            " 1. 1. 1. 1. 1. 1.]\n"
          ],
          "name": "stdout"
        }
      ]
    },
    {
      "cell_type": "markdown",
      "metadata": {
        "id": "RZ13Pmv-nWMx"
      },
      "source": [
        "### Feature Selection"
      ]
    },
    {
      "cell_type": "markdown",
      "metadata": {
        "id": "ql7AwJFonY1-"
      },
      "source": [
        "There are [several options](https://scikit-learn.org/stable/modules/feature_selection.html) for feature selection. You can select features in a supervised way (calculating likely \"usefulness\" with repect to a classification target) or an unsupervised way (variance thresholding, correlation elimination, etc.). In this example though, we will be using the supervised [mutual info classification](https://scikit-learn.org/stable/modules/generated/sklearn.feature_selection.mutual_info_classif.html#sklearn.feature_selection.mutual_info_classif) test.\n",
        "\n",
        "Note that we have to ask the selection algorithm how many features we want to retrieve."
      ]
    },
    {
      "cell_type": "code",
      "metadata": {
        "id": "GGc-WtTBtOO1"
      },
      "source": [
        "from sklearn.feature_selection import SelectKBest\n",
        "from sklearn.feature_selection import chi2, mutual_info_classif\n",
        "\n",
        "# Number of features we want to get back\n",
        "k = 10\n",
        "\n",
        "# Instantiate\n",
        "feature_selector = SelectKBest(mutual_info_classif, k=k)\n",
        "\n",
        "# Fit -- MAKE SURE YOU USE THE SCALED FEATURES!\n",
        "feature_selector.fit(X_train_scaled, y_train)\n",
        "\n",
        "# Transform the scaled training data to remove all non-selected features\n",
        "X_train_selected = feature_selector.transform(X_train_scaled)"
      ],
      "execution_count": null,
      "outputs": []
    },
    {
      "cell_type": "code",
      "metadata": {
        "id": "Dr3yGJY8u55K",
        "colab": {
          "base_uri": "https://localhost:8080/"
        },
        "outputId": "9dbc389d-f176-409d-a545-ef39b70ca3f6"
      },
      "source": [
        "X_train_selected.shape"
      ],
      "execution_count": null,
      "outputs": [
        {
          "output_type": "execute_result",
          "data": {
            "text/plain": [
              "(398, 10)"
            ]
          },
          "metadata": {
            "tags": []
          },
          "execution_count": 16
        }
      ]
    },
    {
      "cell_type": "markdown",
      "metadata": {
        "id": "q_Z-zB6owW4R"
      },
      "source": [
        "You can look at the scores of the features as well by examining the `.scores_` property of the feature selector. "
      ]
    },
    {
      "cell_type": "code",
      "metadata": {
        "id": "bNZCownowTcD",
        "colab": {
          "base_uri": "https://localhost:8080/"
        },
        "outputId": "e449853d-501e-4e71-be3f-cc026affd63e"
      },
      "source": [
        "print(feature_selector.scores_)"
      ],
      "execution_count": null,
      "outputs": [
        {
          "output_type": "stream",
          "text": [
            "[0.37403361 0.07313565 0.39817971 0.36500042 0.08027013 0.20041507\n",
            " 0.33518805 0.43643216 0.08205321 0.         0.24562843 0.\n",
            " 0.24486882 0.34535836 0.         0.03043828 0.09741921 0.13423252\n",
            " 0.03546968 0.03801369 0.44925975 0.144706   0.45213225 0.44092672\n",
            " 0.10586363 0.23434642 0.29285903 0.41142764 0.11671274 0.06899733]\n"
          ],
          "name": "stdout"
        }
      ]
    },
    {
      "cell_type": "markdown",
      "metadata": {
        "id": "i_Bvyn3Dwney"
      },
      "source": [
        "With a bit more coding, you can sort these scores and grab the list of feature names, so you can print out the list of most-to-least important features (this can be a good exercise for you to practice coding!)."
      ]
    },
    {
      "cell_type": "markdown",
      "metadata": {
        "id": "PbRUimJIxCSG"
      },
      "source": [
        "### Dimensionality Reduction"
      ]
    },
    {
      "cell_type": "markdown",
      "metadata": {
        "id": "lqr-V3f5xIRk"
      },
      "source": [
        "Again, there are [many ways to do dimensionality reduction](https://scikit-learn.org/stable/modules/unsupervised_reduction.html). Here, we're going to stick to basics: Principal Component Analysis, or PCA."
      ]
    },
    {
      "cell_type": "code",
      "metadata": {
        "id": "lA4Kxb9rxU73"
      },
      "source": [
        "from sklearn.decomposition import PCA\n",
        "\n",
        "# Specify the number of components you want to get back from the system\n",
        "n_components = 3\n",
        "\n",
        "feature_reducer = PCA(n_components=n_components)\n",
        "feature_reducer.fit(X_train_selected)\n",
        "\n",
        "X_train_reduced = feature_reducer.transform(X_train_selected)"
      ],
      "execution_count": null,
      "outputs": []
    },
    {
      "cell_type": "code",
      "metadata": {
        "id": "OiBOni_myR0Q",
        "colab": {
          "base_uri": "https://localhost:8080/"
        },
        "outputId": "8dfb7b3b-63a0-4554-cac3-4ba785ec6a79"
      },
      "source": [
        "X_train_reduced.shape"
      ],
      "execution_count": null,
      "outputs": [
        {
          "output_type": "execute_result",
          "data": {
            "text/plain": [
              "(398, 3)"
            ]
          },
          "metadata": {
            "tags": []
          },
          "execution_count": 19
        }
      ]
    },
    {
      "cell_type": "markdown",
      "metadata": {
        "id": "BhqKKrALybED"
      },
      "source": [
        "### Select and Train a Classifier"
      ]
    },
    {
      "cell_type": "markdown",
      "metadata": {
        "id": "X5An70Ewye36"
      },
      "source": [
        "Once more -- [many, many classifiers](https://scikit-learn.org/stable/supervised_learning.html). And once more, we will cut to the chase and use the support vector machine classifier `SVC()`."
      ]
    },
    {
      "cell_type": "code",
      "metadata": {
        "id": "yQBMpCJvy-Av",
        "colab": {
          "base_uri": "https://localhost:8080/"
        },
        "outputId": "b936a6ab-b100-47e1-d5aa-1fe6d70ed086"
      },
      "source": [
        "from sklearn.svm import SVC\n",
        "\n",
        "clf = SVC()\n",
        "\n",
        "clf.fit(X_train_reduced, y_train)"
      ],
      "execution_count": null,
      "outputs": [
        {
          "output_type": "execute_result",
          "data": {
            "text/plain": [
              "SVC(C=1.0, break_ties=False, cache_size=200, class_weight=None, coef0=0.0,\n",
              "    decision_function_shape='ovr', degree=3, gamma='scale', kernel='rbf',\n",
              "    max_iter=-1, probability=False, random_state=None, shrinking=True,\n",
              "    tol=0.001, verbose=False)"
            ]
          },
          "metadata": {
            "tags": []
          },
          "execution_count": 20
        }
      ]
    },
    {
      "cell_type": "markdown",
      "metadata": {
        "id": "dgEI3i_L1Kxx"
      },
      "source": [
        "We want to have some indication of how well our classifier did, even on the training set (this helps as a check, to see what we might expect on the testing set)."
      ]
    },
    {
      "cell_type": "code",
      "metadata": {
        "id": "HGfL6RoC1UYN",
        "colab": {
          "base_uri": "https://localhost:8080/"
        },
        "outputId": "02bd4644-851a-40fe-e51a-195171cfcb6d"
      },
      "source": [
        "print(f\"SVC Performance on the Training Set: %{clf.score(X_train_reduced, y_train)*100:0.5}\")"
      ],
      "execution_count": null,
      "outputs": [
        {
          "output_type": "stream",
          "text": [
            "SVC Performance on the Training Set: %93.97\n"
          ],
          "name": "stdout"
        }
      ]
    },
    {
      "cell_type": "markdown",
      "metadata": {
        "id": "tl_yYBjzzIr-"
      },
      "source": [
        "## Testing"
      ]
    },
    {
      "cell_type": "markdown",
      "metadata": {
        "id": "dTIZmEyezLp-"
      },
      "source": [
        "Testing steps require that you simply **apply** the trained objects we just created. To summarize, the objects we have trained (the ones with a `.fit()` method) are:\n",
        "\n",
        "- `label_encoder`\n",
        "- `feature_scaler`\n",
        "- `feature_selector`\n",
        "- `feature_reducer`\n",
        "- `clf`\n",
        "\n",
        "You must make sure that you do not modify these objects at all when applying them to the testing data -- they should be considered **read-only** after the training step."
      ]
    },
    {
      "cell_type": "markdown",
      "metadata": {
        "id": "BL0RGFrJ0A2M"
      },
      "source": [
        "### Testing Steps"
      ]
    },
    {
      "cell_type": "markdown",
      "metadata": {
        "id": "G_43xmIt0-hm"
      },
      "source": [
        "Because the testing steps are all just applications of the previously-trained objects, we can just do them all in one sequential block."
      ]
    },
    {
      "cell_type": "code",
      "metadata": {
        "id": "stE7_ixP0ASp",
        "colab": {
          "base_uri": "https://localhost:8080/"
        },
        "outputId": "5530fc09-9a03-46d3-f7a5-6675849703fc"
      },
      "source": [
        "# Label Encoding\n",
        "X_test = test_set.drop(['diagnosis'], axis=1)\n",
        "y_test = label_encoder.transform(test_set['diagnosis'])\n",
        "\n",
        "# Feature Scaling\n",
        "X_test_scaled = feature_scaler.transform(X_test)\n",
        "\n",
        "# Feature Selection\n",
        "X_test_selected = feature_selector.transform(X_test_scaled)\n",
        "\n",
        "# Feature Reduction\n",
        "X_test_reduced = feature_reducer.transform(X_test_selected)\n",
        "\n",
        "# Classification\n",
        "X_test_predicted = clf.predict(X_test_reduced)\n",
        "\n",
        "# Scoring\n",
        "X_test_acc = clf.score(X_test_reduced, y_test)\n",
        "\n",
        "print(f\"SVC Accuracy on the Testing Set: %{X_test_acc*100:0.5}\")"
      ],
      "execution_count": null,
      "outputs": [
        {
          "output_type": "stream",
          "text": [
            "SVC Accuracy on the Testing Set: %93.567\n"
          ],
          "name": "stdout"
        }
      ]
    },
    {
      "cell_type": "code",
      "metadata": {
        "id": "8sWgjxoWG8da",
        "colab": {
          "base_uri": "https://localhost:8080/"
        },
        "outputId": "029c1447-ec1f-4d21-d6c1-2ee992150fdc"
      },
      "source": [
        "print(55 * \"=\")\n",
        "print(\"SVC Accuracy Using Standard Approach\")\n",
        "print(55 * \"-\")\n",
        "print(metrics.classification_report(y_test, X_test_predicted, target_names=['Benign', 'Malignant']))"
      ],
      "execution_count": null,
      "outputs": [
        {
          "output_type": "stream",
          "text": [
            "=======================================================\n",
            "SVC Accuracy Using Standard Approach\n",
            "-------------------------------------------------------\n",
            "              precision    recall  f1-score   support\n",
            "\n",
            "      Benign       0.91      0.99      0.95       107\n",
            "   Malignant       0.98      0.84      0.91        64\n",
            "\n",
            "    accuracy                           0.94       171\n",
            "   macro avg       0.95      0.92      0.93       171\n",
            "weighted avg       0.94      0.94      0.93       171\n",
            "\n"
          ],
          "name": "stdout"
        }
      ]
    },
    {
      "cell_type": "code",
      "metadata": {
        "id": "RHYUydCFKCjU",
        "colab": {
          "base_uri": "https://localhost:8080/"
        },
        "outputId": "f9d153b0-03d3-4735-c576-9db68abfd7e4"
      },
      "source": [
        "metrics.confusion_matrix(y_test, X_test_predicted)"
      ],
      "execution_count": null,
      "outputs": [
        {
          "output_type": "execute_result",
          "data": {
            "text/plain": [
              "array([[106,   1],\n",
              "       [ 10,  54]])"
            ]
          },
          "metadata": {
            "tags": []
          },
          "execution_count": 24
        }
      ]
    },
    {
      "cell_type": "markdown",
      "metadata": {
        "id": "ANy-JTO-2PWu"
      },
      "source": [
        "## Discussion"
      ]
    },
    {
      "cell_type": "markdown",
      "metadata": {
        "id": "Xnqkirt12SiB"
      },
      "source": [
        "Now, in a demo, this is pretty straightforward. But what we're doing is very **fragile**: as soon as we start making changes, there is a high likelihood things will break.\n",
        "\n",
        "- We have 5 trained objects we need to apply in the right sequence\n",
        "- If we want to change any of these 5, we need to change the corresponding fit / transform methods in both training and testing\n",
        "- We have multiple parameters (number of features to select, reduced components, SVC parameters) that we need to optimize\n",
        "- We need to do this process multiple times to get a cross-validation score for different subsets of training and testing data\n",
        "\n",
        "As soon as you start doing research or edits to this setup, you will start to see what a pain it is to evaluate all of these possible variations. \n",
        "\n",
        "Also, it's just very unwieldy to have this much code to do a pretty straightforward series of tasks."
      ]
    },
    {
      "cell_type": "markdown",
      "metadata": {
        "id": "jBZbFC2X20tj"
      },
      "source": [
        "Enter Pipelines."
      ]
    },
    {
      "cell_type": "markdown",
      "metadata": {
        "id": "TA45ZyBz3DhK"
      },
      "source": [
        "# ML With Pipelines (Simple)"
      ]
    },
    {
      "cell_type": "markdown",
      "metadata": {
        "id": "umn9sIH63F81"
      },
      "source": [
        "You can use pipelines in a few different ways, but let's start by \"encapsulation\": Let's create a pipeline that performs all of the above steps, without anything fancy.\n",
        "\n",
        "Each step in a pipeline is defined by a *list of tuples*, where each tuple is of the form `('name_of_step', object())`. See below.\n"
      ]
    },
    {
      "cell_type": "code",
      "metadata": {
        "id": "JJK6Jp153FaF"
      },
      "source": [
        "from sklearn.pipeline import Pipeline\n",
        "\n",
        "# Set up your parameters (same as before)\n",
        "k = 10\n",
        "n_components = 3\n",
        "\n",
        "ml_pipeline = Pipeline([\n",
        "                        ('feature_scaling', StandardScaler()),\n",
        "                        ('feature_selection', SelectKBest(mutual_info_classif, k=k)),\n",
        "                        ('feature_reduction', PCA(n_components=n_components)),\n",
        "                        ('classifier', SVC())\n",
        "])"
      ],
      "execution_count": null,
      "outputs": []
    },
    {
      "cell_type": "code",
      "metadata": {
        "colab": {
          "base_uri": "https://localhost:8080/"
        },
        "id": "WM2t-KeBSIBm",
        "outputId": "5a246a9d-c074-4414-9307-c81bc4a92d58"
      },
      "source": [
        "type(ml_pipeline)"
      ],
      "execution_count": null,
      "outputs": [
        {
          "output_type": "execute_result",
          "data": {
            "text/plain": [
              "sklearn.pipeline.Pipeline"
            ]
          },
          "metadata": {
            "tags": []
          },
          "execution_count": 26
        }
      ]
    },
    {
      "cell_type": "markdown",
      "metadata": {
        "id": "nC2fbK8z4j_p"
      },
      "source": [
        "Now, this is the great part: You can call `fit` on all of this at once!"
      ]
    },
    {
      "cell_type": "code",
      "metadata": {
        "id": "TX6_ZhDv4n2B",
        "colab": {
          "base_uri": "https://localhost:8080/"
        },
        "outputId": "eb079904-8fd3-4a41-c7b2-f5b168ba90e8"
      },
      "source": [
        "ml_pipeline.fit(X_train, y_train)"
      ],
      "execution_count": null,
      "outputs": [
        {
          "output_type": "execute_result",
          "data": {
            "text/plain": [
              "Pipeline(memory=None,\n",
              "         steps=[('feature_scaling',\n",
              "                 StandardScaler(copy=True, with_mean=True, with_std=True)),\n",
              "                ('feature_selection',\n",
              "                 SelectKBest(k=10,\n",
              "                             score_func=<function mutual_info_classif at 0x7fb48f92d200>)),\n",
              "                ('feature_reduction',\n",
              "                 PCA(copy=True, iterated_power='auto', n_components=3,\n",
              "                     random_state=None, svd_solver='auto', tol=0.0,\n",
              "                     whiten=False)),\n",
              "                ('classifier',\n",
              "                 SVC(C=1.0, break_ties=False, cache_size=200, class_weight=None,\n",
              "                     coef0=0.0, decision_function_shape='ovr', degree=3,\n",
              "                     gamma='scale', kernel='rbf', max_iter=-1,\n",
              "                     probability=False, random_state=None, shrinking=True,\n",
              "                     tol=0.001, verbose=False))],\n",
              "         verbose=False)"
            ]
          },
          "metadata": {
            "tags": []
          },
          "execution_count": 27
        }
      ]
    },
    {
      "cell_type": "markdown",
      "metadata": {
        "id": "X5OBJfaz4_dv"
      },
      "source": [
        "Now every step above is fit to the training data. Now, just apply it to the testing data!\n",
        "\n",
        "**Note**: If your last step is a classifier, call `.predict()` instead of `.transform()`. The pipeline API (the set of methods you can call) is based on the last step. So you can use the same methods as you would on the SVC() object, like `.predict()` and `.score()`, but not `.transform()` because SVC() doesn't have that method."
      ]
    },
    {
      "cell_type": "code",
      "metadata": {
        "id": "27birs284-5Z",
        "colab": {
          "base_uri": "https://localhost:8080/"
        },
        "outputId": "29ff8c75-5eef-45e2-941d-12d6f746b659"
      },
      "source": [
        "X_test_predicted = ml_pipeline.predict(X_test)\n",
        "X_test_acc = ml_pipeline.score(X_test, y_test)\n",
        "\n",
        "print(f\"SVC Accuracy on the Testing Set: %{X_test_acc*100:0.5}\")"
      ],
      "execution_count": null,
      "outputs": [
        {
          "output_type": "stream",
          "text": [
            "SVC Accuracy on the Testing Set: %93.567\n"
          ],
          "name": "stdout"
        }
      ]
    },
    {
      "cell_type": "code",
      "metadata": {
        "id": "erzc5kLdHGhw",
        "colab": {
          "base_uri": "https://localhost:8080/"
        },
        "outputId": "eaa99e36-f0d0-4405-9d79-2d9bfd684cd4"
      },
      "source": [
        "print(55 * \"=\")\n",
        "print(\"SVC Accuracy Using Pipelines\")\n",
        "print(55 * \"-\")\n",
        "print(metrics.classification_report(y_test, X_test_predicted, target_names=['Benign', 'Malignant']))"
      ],
      "execution_count": null,
      "outputs": [
        {
          "output_type": "stream",
          "text": [
            "=======================================================\n",
            "SVC Accuracy Using Pipelines\n",
            "-------------------------------------------------------\n",
            "              precision    recall  f1-score   support\n",
            "\n",
            "      Benign       0.91      0.99      0.95       107\n",
            "   Malignant       0.98      0.84      0.91        64\n",
            "\n",
            "    accuracy                           0.94       171\n",
            "   macro avg       0.95      0.92      0.93       171\n",
            "weighted avg       0.94      0.94      0.93       171\n",
            "\n"
          ],
          "name": "stdout"
        }
      ]
    },
    {
      "cell_type": "code",
      "metadata": {
        "id": "jypJIbZBKAqc",
        "colab": {
          "base_uri": "https://localhost:8080/"
        },
        "outputId": "c352f429-f1be-4ebb-af46-7d6b28d13d2a"
      },
      "source": [
        "metrics.confusion_matrix(y_test, X_test_predicted)"
      ],
      "execution_count": null,
      "outputs": [
        {
          "output_type": "execute_result",
          "data": {
            "text/plain": [
              "array([[106,   1],\n",
              "       [ 10,  54]])"
            ]
          },
          "metadata": {
            "tags": []
          },
          "execution_count": 30
        }
      ]
    },
    {
      "cell_type": "markdown",
      "metadata": {
        "id": "Ivcr3RXO5kqz"
      },
      "source": [
        "So, so much easier -- and now, if you want to make changes to the pipeline, you just have to make them in once place (at the definition of the pipeline) and then re-fit and re-predict your data!"
      ]
    },
    {
      "cell_type": "markdown",
      "metadata": {
        "id": "v5A9lQ5o6j6a"
      },
      "source": [
        "# ML with Pipelines (Cross-Validation)"
      ]
    },
    {
      "cell_type": "markdown",
      "metadata": {
        "id": "YJxDJNnQ7NDy"
      },
      "source": [
        "Okay, so we get the same performance on the test set as before (%93.567). Is this due to the specific train / test split? How do we make sure we aren't overfitting, or that we haven't randomly gotten a good train / test split?"
      ]
    },
    {
      "cell_type": "markdown",
      "metadata": {
        "id": "TkY5Q_F07pm0"
      },
      "source": [
        "This is where [cross-validation](https://scikit-learn.org/stable/modules/cross_validation.html) comes into play. You split the dataset several times into mini-training, mini-testing sets, and perform training and testing on each one. Each gives you a score, so you can see how much the accuracy varies as a result of the specific training / testing set.\n",
        "\n",
        "And here's the thing: Because of the way the methods are designed, you can run CV on the *entire pipeline* at once.\n",
        "\n"
      ]
    },
    {
      "cell_type": "code",
      "metadata": {
        "id": "BAlPCVZt6jU-"
      },
      "source": [
        "from sklearn.model_selection import cross_val_score\n",
        "\n",
        "scores = cross_val_score(ml_pipeline, X_train, y_train, cv=5)"
      ],
      "execution_count": null,
      "outputs": []
    },
    {
      "cell_type": "code",
      "metadata": {
        "id": "4EMxI9yh7j9j",
        "colab": {
          "base_uri": "https://localhost:8080/"
        },
        "outputId": "7f2d79c8-3569-4b2c-fd23-60a415ff6080"
      },
      "source": [
        "print(f\"Cross-validation Accuracy Scores:\")\n",
        "for score in scores:\n",
        "  print(f\"  %{score*100:0.5}\")\n",
        "print()\n",
        "print(f\"Average accuracy: %{100* (scores.sum() / len(scores)):0.5}\")\n",
        "print(f\"Standard Deviation of scores: {scores.std():0.5}\")"
      ],
      "execution_count": null,
      "outputs": [
        {
          "output_type": "stream",
          "text": [
            "Cross-validation Accuracy Scores:\n",
            "  %95.0\n",
            "  %96.25\n",
            "  %91.25\n",
            "  %91.139\n",
            "  %88.608\n",
            "\n",
            "Average accuracy: %92.449\n",
            "Standard Deviation of scores: 0.02788\n"
          ],
          "name": "stdout"
        }
      ]
    },
    {
      "cell_type": "markdown",
      "metadata": {
        "id": "fdd7cA_Y-CtK"
      },
      "source": [
        "You can increase the number of cross-validation folds, but keep in mind that as the number of folds (the `cv` parameter) increases, the size of the testing set will decrease: \n",
        "\n",
        "$$\\textrm{Testing size per fold} = \\frac{1}{\\textrm{cv}}$$ \n",
        "\n",
        "If you have a small dataset, this might become a problem.\n",
        "\n",
        "But let's move on to the last and most-valuable part of pipelines: CV parameter selection."
      ]
    },
    {
      "cell_type": "markdown",
      "metadata": {
        "id": "G6ALf8WG-0tU"
      },
      "source": [
        "# ML with Pipelines (Parameter Selection)"
      ]
    },
    {
      "cell_type": "markdown",
      "metadata": {
        "id": "QTIMQb-8_P3D"
      },
      "source": [
        "In our pipeline, there are several spots where we have semi-randomly picked parameter values:\n",
        "\n",
        "- Feature Selection: `k=10`\n",
        "- Dimensionality Reduction: `n_components=3`\n",
        "- Classifier: `C=1.0`, `kernel='rbf'`\n",
        "\n",
        "Are we sure that these are the best values? Why not `k=20` and `n_components=5`? Maybe the linear kernel does the best when `k=10` and `n_components=3`, but an RBF kernel does better when `k=20` and `n_components=10`?\n",
        "\n",
        "To test this by hand, we'd have to code a pipeline with each possible combination of each of these parameter values. No fun.\n",
        "\n",
        "So let's let the code do the work for us!"
      ]
    },
    {
      "cell_type": "code",
      "metadata": {
        "id": "mxHPt3Ck-7iC"
      },
      "source": [
        "from sklearn.model_selection import GridSearchCV\n",
        "\n",
        "# Re-create pipeline with no specified parameters\n",
        "ml_pipeline = Pipeline([\n",
        "                        ('feature_scaling', StandardScaler()),\n",
        "                        ('feature_selection', SelectKBest(mutual_info_classif)),\n",
        "                        ('feature_reduction', PCA()),\n",
        "                        ('classifier', SVC())\n",
        "])\n",
        "\n",
        "# Create the parameter set grid to iterate over\n",
        "k = [20, 25, 30]\n",
        "n_components = [8, 9, 10]\n",
        "C = [100, 1000]\n",
        "kernel = ['rbf', 'linear']\n",
        "\n",
        "param_grid = {\n",
        "        'feature_selection__k': k,\n",
        "        'feature_reduction__n_components': n_components,\n",
        "        'classifier__C': C,\n",
        "        'classifier__kernel': kernel\n",
        "        }\n",
        "\n",
        "grid = GridSearchCV(ml_pipeline, n_jobs=-1, param_grid=param_grid)"
      ],
      "execution_count": null,
      "outputs": []
    },
    {
      "cell_type": "code",
      "metadata": {
        "id": "qVuu31RNAp4N",
        "colab": {
          "base_uri": "https://localhost:8080/"
        },
        "outputId": "7296f6a3-f6db-4d84-9249-02b37a0bb52f"
      },
      "source": [
        "grid.fit(X_train, y_train)"
      ],
      "execution_count": null,
      "outputs": [
        {
          "output_type": "execute_result",
          "data": {
            "text/plain": [
              "GridSearchCV(cv=None, error_score=nan,\n",
              "             estimator=Pipeline(memory=None,\n",
              "                                steps=[('feature_scaling',\n",
              "                                        StandardScaler(copy=True,\n",
              "                                                       with_mean=True,\n",
              "                                                       with_std=True)),\n",
              "                                       ('feature_selection',\n",
              "                                        SelectKBest(k=10,\n",
              "                                                    score_func=<function mutual_info_classif at 0x7fb48f92d200>)),\n",
              "                                       ('feature_reduction',\n",
              "                                        PCA(copy=True, iterated_power='auto',\n",
              "                                            n_components=None,\n",
              "                                            random_state=None,\n",
              "                                            svd_solver...\n",
              "                                            probability=False,\n",
              "                                            random_state=None, shrinking=True,\n",
              "                                            tol=0.001, verbose=False))],\n",
              "                                verbose=False),\n",
              "             iid='deprecated', n_jobs=-1,\n",
              "             param_grid={'classifier__C': [100, 1000],\n",
              "                         'classifier__kernel': ['rbf', 'linear'],\n",
              "                         'feature_reduction__n_components': [8, 9, 10],\n",
              "                         'feature_selection__k': [20, 25, 30]},\n",
              "             pre_dispatch='2*n_jobs', refit=True, return_train_score=False,\n",
              "             scoring=None, verbose=0)"
            ]
          },
          "metadata": {
            "tags": []
          },
          "execution_count": 34
        }
      ]
    },
    {
      "cell_type": "code",
      "metadata": {
        "id": "t8nY1be4GMt2",
        "colab": {
          "base_uri": "https://localhost:8080/"
        },
        "outputId": "8395914e-2a69-46a9-a94f-df349298c2cb"
      },
      "source": [
        "# Print out the best parameters of this gridsearch\n",
        "grid.best_params_"
      ],
      "execution_count": null,
      "outputs": [
        {
          "output_type": "execute_result",
          "data": {
            "text/plain": [
              "{'classifier__C': 100,\n",
              " 'classifier__kernel': 'linear',\n",
              " 'feature_reduction__n_components': 9,\n",
              " 'feature_selection__k': 25}"
            ]
          },
          "metadata": {
            "tags": []
          },
          "execution_count": 35
        }
      ]
    },
    {
      "cell_type": "code",
      "metadata": {
        "id": "IZththr6GdFU",
        "colab": {
          "base_uri": "https://localhost:8080/"
        },
        "outputId": "4239ce1c-6421-4140-ba8e-0f02eabfc09a"
      },
      "source": [
        "# And the best scores\n",
        "grid.best_score_"
      ],
      "execution_count": null,
      "outputs": [
        {
          "output_type": "execute_result",
          "data": {
            "text/plain": [
              "0.9798417721518987"
            ]
          },
          "metadata": {
            "tags": []
          },
          "execution_count": 36
        }
      ]
    },
    {
      "cell_type": "code",
      "metadata": {
        "id": "brZvaI94GihV",
        "colab": {
          "base_uri": "https://localhost:8080/"
        },
        "outputId": "2c10e77e-3c6c-4d14-ac82-75b42ee294ec"
      },
      "source": [
        "# Finally, get a performance accuracy on the testing set\n",
        "X_test_predicted = grid.predict(X_test)\n",
        "X_test_acc = grid.score(X_test, y_test)\n",
        "print(f\"SVC Accuracy on the Testing Set: %{X_test_acc*100:0.5}\")"
      ],
      "execution_count": null,
      "outputs": [
        {
          "output_type": "stream",
          "text": [
            "SVC Accuracy on the Testing Set: %97.076\n"
          ],
          "name": "stdout"
        }
      ]
    },
    {
      "cell_type": "code",
      "metadata": {
        "id": "AnwANv_EJCOX",
        "colab": {
          "base_uri": "https://localhost:8080/"
        },
        "outputId": "f0ead5c2-48e2-447b-b3f8-af00bcb90de1"
      },
      "source": [
        "print(55 * \"=\")\n",
        "print(\"Result of GridSearchCV to find Optimal Parameters\")\n",
        "print(55 * \"-\")\n",
        "print(metrics.classification_report(y_test, X_test_predicted, target_names=['Benign', 'Malignant']))"
      ],
      "execution_count": null,
      "outputs": [
        {
          "output_type": "stream",
          "text": [
            "=======================================================\n",
            "Result of GridSearchCV to find Optimal Parameters\n",
            "-------------------------------------------------------\n",
            "              precision    recall  f1-score   support\n",
            "\n",
            "      Benign       0.97      0.98      0.98       107\n",
            "   Malignant       0.97      0.95      0.96        64\n",
            "\n",
            "    accuracy                           0.97       171\n",
            "   macro avg       0.97      0.97      0.97       171\n",
            "weighted avg       0.97      0.97      0.97       171\n",
            "\n"
          ],
          "name": "stdout"
        }
      ]
    },
    {
      "cell_type": "code",
      "metadata": {
        "id": "6KsELIixJ4LX",
        "colab": {
          "base_uri": "https://localhost:8080/"
        },
        "outputId": "82206b2a-802f-4982-a586-026fd49aad98"
      },
      "source": [
        "metrics.confusion_matrix(y_test, X_test_predicted)"
      ],
      "execution_count": null,
      "outputs": [
        {
          "output_type": "execute_result",
          "data": {
            "text/plain": [
              "array([[105,   2],\n",
              "       [  3,  61]])"
            ]
          },
          "metadata": {
            "tags": []
          },
          "execution_count": 39
        }
      ]
    },
    {
      "cell_type": "markdown",
      "metadata": {
        "id": "1ypOmQNwenVI"
      },
      "source": [
        "## Visualization"
      ]
    },
    {
      "cell_type": "code",
      "metadata": {
        "id": "iQQJT1AR3dgD"
      },
      "source": [
        "x = np.arange(10)\n",
        "y = np.arange(20)"
      ],
      "execution_count": null,
      "outputs": []
    },
    {
      "cell_type": "code",
      "metadata": {
        "colab": {
          "base_uri": "https://localhost:8080/"
        },
        "id": "1AiWZf8a3yNE",
        "outputId": "29eb2b69-f616-498d-cd22-21973a53e535"
      },
      "source": [
        "\n",
        "x"
      ],
      "execution_count": null,
      "outputs": [
        {
          "output_type": "execute_result",
          "data": {
            "text/plain": [
              "array([0, 1, 2, 3, 4, 5, 6, 7, 8, 9])"
            ]
          },
          "metadata": {
            "tags": []
          },
          "execution_count": 54
        }
      ]
    },
    {
      "cell_type": "code",
      "metadata": {
        "id": "dE4_84HR3gYH"
      },
      "source": [
        "def print_something(*a):\n",
        "  return np.meshgrid(a)\n",
        "\n",
        "b = print_something(x,y)"
      ],
      "execution_count": null,
      "outputs": []
    },
    {
      "cell_type": "code",
      "metadata": {
        "colab": {
          "base_uri": "https://localhost:8080/"
        },
        "id": "pPBodrw23uZI",
        "outputId": "3c5eb1a0-f73a-489e-c1ee-c88c9d9534ef"
      },
      "source": [
        "np.meshgrid(x, y)"
      ],
      "execution_count": null,
      "outputs": [
        {
          "output_type": "execute_result",
          "data": {
            "text/plain": [
              "[array([[0, 1, 2, 3, 4, 5, 6, 7, 8, 9],\n",
              "        [0, 1, 2, 3, 4, 5, 6, 7, 8, 9],\n",
              "        [0, 1, 2, 3, 4, 5, 6, 7, 8, 9],\n",
              "        [0, 1, 2, 3, 4, 5, 6, 7, 8, 9],\n",
              "        [0, 1, 2, 3, 4, 5, 6, 7, 8, 9],\n",
              "        [0, 1, 2, 3, 4, 5, 6, 7, 8, 9],\n",
              "        [0, 1, 2, 3, 4, 5, 6, 7, 8, 9],\n",
              "        [0, 1, 2, 3, 4, 5, 6, 7, 8, 9],\n",
              "        [0, 1, 2, 3, 4, 5, 6, 7, 8, 9],\n",
              "        [0, 1, 2, 3, 4, 5, 6, 7, 8, 9],\n",
              "        [0, 1, 2, 3, 4, 5, 6, 7, 8, 9],\n",
              "        [0, 1, 2, 3, 4, 5, 6, 7, 8, 9],\n",
              "        [0, 1, 2, 3, 4, 5, 6, 7, 8, 9],\n",
              "        [0, 1, 2, 3, 4, 5, 6, 7, 8, 9],\n",
              "        [0, 1, 2, 3, 4, 5, 6, 7, 8, 9],\n",
              "        [0, 1, 2, 3, 4, 5, 6, 7, 8, 9],\n",
              "        [0, 1, 2, 3, 4, 5, 6, 7, 8, 9],\n",
              "        [0, 1, 2, 3, 4, 5, 6, 7, 8, 9],\n",
              "        [0, 1, 2, 3, 4, 5, 6, 7, 8, 9],\n",
              "        [0, 1, 2, 3, 4, 5, 6, 7, 8, 9]]),\n",
              " array([[ 0,  0,  0,  0,  0,  0,  0,  0,  0,  0],\n",
              "        [ 1,  1,  1,  1,  1,  1,  1,  1,  1,  1],\n",
              "        [ 2,  2,  2,  2,  2,  2,  2,  2,  2,  2],\n",
              "        [ 3,  3,  3,  3,  3,  3,  3,  3,  3,  3],\n",
              "        [ 4,  4,  4,  4,  4,  4,  4,  4,  4,  4],\n",
              "        [ 5,  5,  5,  5,  5,  5,  5,  5,  5,  5],\n",
              "        [ 6,  6,  6,  6,  6,  6,  6,  6,  6,  6],\n",
              "        [ 7,  7,  7,  7,  7,  7,  7,  7,  7,  7],\n",
              "        [ 8,  8,  8,  8,  8,  8,  8,  8,  8,  8],\n",
              "        [ 9,  9,  9,  9,  9,  9,  9,  9,  9,  9],\n",
              "        [10, 10, 10, 10, 10, 10, 10, 10, 10, 10],\n",
              "        [11, 11, 11, 11, 11, 11, 11, 11, 11, 11],\n",
              "        [12, 12, 12, 12, 12, 12, 12, 12, 12, 12],\n",
              "        [13, 13, 13, 13, 13, 13, 13, 13, 13, 13],\n",
              "        [14, 14, 14, 14, 14, 14, 14, 14, 14, 14],\n",
              "        [15, 15, 15, 15, 15, 15, 15, 15, 15, 15],\n",
              "        [16, 16, 16, 16, 16, 16, 16, 16, 16, 16],\n",
              "        [17, 17, 17, 17, 17, 17, 17, 17, 17, 17],\n",
              "        [18, 18, 18, 18, 18, 18, 18, 18, 18, 18],\n",
              "        [19, 19, 19, 19, 19, 19, 19, 19, 19, 19]])]"
            ]
          },
          "metadata": {
            "tags": []
          },
          "execution_count": 57
        }
      ]
    },
    {
      "cell_type": "code",
      "metadata": {
        "id": "EyYq2BBuCSv5"
      },
      "source": [
        "def make_meshgrid(feature_data, h=.02):\n",
        "    samples, dims = np.shape(feature_data)\n",
        "\n",
        "    for dim in range(dims):\n",
        "      x = feature_data[:,dim]\n",
        "      d_min, d_max = x.min() - 1, x.max() + 1\n",
        "      \n",
        "    x_min, x_max = x.min() - 1, x.max() + 1\n",
        "    y_min, y_max = y.min() - 1, y.max() + 1\n",
        "    xx, yy = np.meshgrid(np.arange(x_min, x_max, h),\n",
        "                         np.arange(y_min, y_max, h))\n",
        "    return xx, yy"
      ],
      "execution_count": null,
      "outputs": []
    },
    {
      "cell_type": "code",
      "metadata": {
        "id": "wDaqyZ5REFoE"
      },
      "source": [
        "def plot_contours(ax, clf, xx, yy, **params):\n",
        "    # Predict using the entire domain\n",
        "    Z = clf.predict(domain)\n",
        "    # Z = clf.predict(np.c_[xx.ravel(), yy.ravel()])\n",
        "    # Z = Z.reshape(xx.shape)\n",
        "    # out = ax.contourf(xx, yy, Z, **params)\n",
        "    return out"
      ],
      "execution_count": null,
      "outputs": []
    },
    {
      "cell_type": "code",
      "metadata": {
        "id": "cChPa2d9Ye1D"
      },
      "source": [
        "best_estimator = grid.best_estimator_"
      ],
      "execution_count": null,
      "outputs": []
    },
    {
      "cell_type": "code",
      "metadata": {
        "id": "LHUWJqEyY24K"
      },
      "source": [
        "X_train_pca = best_estimator[:-1].transform(X_train)"
      ],
      "execution_count": null,
      "outputs": []
    },
    {
      "cell_type": "code",
      "metadata": {
        "id": "u_7Y9Mm52VLN"
      },
      "source": [
        "samples, dims = np.shape(X_train_pca)"
      ],
      "execution_count": null,
      "outputs": []
    },
    {
      "cell_type": "code",
      "metadata": {
        "colab": {
          "base_uri": "https://localhost:8080/"
        },
        "id": "PNgdR_8N29Gt",
        "outputId": "ce619529-6a9a-465d-a6e1-abad1962d250"
      },
      "source": [
        "range(dims)"
      ],
      "execution_count": null,
      "outputs": [
        {
          "output_type": "execute_result",
          "data": {
            "text/plain": [
              "range(0, 9)"
            ]
          },
          "metadata": {
            "tags": []
          },
          "execution_count": 48
        }
      ]
    },
    {
      "cell_type": "code",
      "metadata": {
        "id": "0kGozwApYEAz"
      },
      "source": [
        "X0, X1 = X_train_pca[:, 0], X_train_pca[:, 1]\n",
        "xx, yy = make_meshgrid(X0, X1)"
      ],
      "execution_count": null,
      "outputs": []
    },
    {
      "cell_type": "code",
      "metadata": {
        "colab": {
          "base_uri": "https://localhost:8080/",
          "height": 977
        },
        "id": "A493SMJGYRZO",
        "outputId": "51c58def-b841-4ea7-e814-73a3973ff0a1"
      },
      "source": [
        "fig = plt.figure(figsize=(10, 10))\n",
        "ax = fig.add_subplot(111)\n",
        "plot_contours(ax, best_estimator[-1], xx, yy, cmap=plt.cm.coolwarm, alpha=0.2)\n",
        "ax.scatter(X0, X1, c=y_train, cmap=plt.cm.coolwarm, alpha=0.5, s=50, edgecolors='k')\n",
        "ax.set_xlim(xx.min(), xx.max())\n",
        "ax.set_ylim(yy.min(), yy.max())\n",
        "ax.set_xlabel('Principal Component 1')\n",
        "ax.set_ylabel('Principal Component 2')\n",
        "ax.set_xticks(())\n",
        "ax.set_yticks(())\n",
        "ax.set_title('Malignant vs. Benign SVM')\n",
        "plt.show()"
      ],
      "execution_count": null,
      "outputs": [
        {
          "output_type": "error",
          "ename": "ValueError",
          "evalue": "ignored",
          "traceback": [
            "\u001b[0;31m---------------------------------------------------------------------------\u001b[0m",
            "\u001b[0;31mValueError\u001b[0m                                Traceback (most recent call last)",
            "\u001b[0;32m<ipython-input-107-bff0a03a2575>\u001b[0m in \u001b[0;36m<module>\u001b[0;34m()\u001b[0m\n\u001b[1;32m      1\u001b[0m \u001b[0mfig\u001b[0m \u001b[0;34m=\u001b[0m \u001b[0mplt\u001b[0m\u001b[0;34m.\u001b[0m\u001b[0mfigure\u001b[0m\u001b[0;34m(\u001b[0m\u001b[0mfigsize\u001b[0m\u001b[0;34m=\u001b[0m\u001b[0;34m(\u001b[0m\u001b[0;36m10\u001b[0m\u001b[0;34m,\u001b[0m \u001b[0;36m10\u001b[0m\u001b[0;34m)\u001b[0m\u001b[0;34m)\u001b[0m\u001b[0;34m\u001b[0m\u001b[0;34m\u001b[0m\u001b[0m\n\u001b[1;32m      2\u001b[0m \u001b[0max\u001b[0m \u001b[0;34m=\u001b[0m \u001b[0mfig\u001b[0m\u001b[0;34m.\u001b[0m\u001b[0madd_subplot\u001b[0m\u001b[0;34m(\u001b[0m\u001b[0;36m111\u001b[0m\u001b[0;34m)\u001b[0m\u001b[0;34m\u001b[0m\u001b[0;34m\u001b[0m\u001b[0m\n\u001b[0;32m----> 3\u001b[0;31m \u001b[0mplot_contours\u001b[0m\u001b[0;34m(\u001b[0m\u001b[0max\u001b[0m\u001b[0;34m,\u001b[0m \u001b[0mbest_estimator\u001b[0m\u001b[0;34m[\u001b[0m\u001b[0;34m-\u001b[0m\u001b[0;36m1\u001b[0m\u001b[0;34m]\u001b[0m\u001b[0;34m,\u001b[0m \u001b[0mxx\u001b[0m\u001b[0;34m,\u001b[0m \u001b[0myy\u001b[0m\u001b[0;34m,\u001b[0m \u001b[0mcmap\u001b[0m\u001b[0;34m=\u001b[0m\u001b[0mplt\u001b[0m\u001b[0;34m.\u001b[0m\u001b[0mcm\u001b[0m\u001b[0;34m.\u001b[0m\u001b[0mcoolwarm\u001b[0m\u001b[0;34m,\u001b[0m \u001b[0malpha\u001b[0m\u001b[0;34m=\u001b[0m\u001b[0;36m0.2\u001b[0m\u001b[0;34m)\u001b[0m\u001b[0;34m\u001b[0m\u001b[0;34m\u001b[0m\u001b[0m\n\u001b[0m\u001b[1;32m      4\u001b[0m \u001b[0max\u001b[0m\u001b[0;34m.\u001b[0m\u001b[0mscatter\u001b[0m\u001b[0;34m(\u001b[0m\u001b[0mX0\u001b[0m\u001b[0;34m,\u001b[0m \u001b[0mX1\u001b[0m\u001b[0;34m,\u001b[0m \u001b[0mc\u001b[0m\u001b[0;34m=\u001b[0m\u001b[0my_train\u001b[0m\u001b[0;34m,\u001b[0m \u001b[0mcmap\u001b[0m\u001b[0;34m=\u001b[0m\u001b[0mplt\u001b[0m\u001b[0;34m.\u001b[0m\u001b[0mcm\u001b[0m\u001b[0;34m.\u001b[0m\u001b[0mcoolwarm\u001b[0m\u001b[0;34m,\u001b[0m \u001b[0malpha\u001b[0m\u001b[0;34m=\u001b[0m\u001b[0;36m0.5\u001b[0m\u001b[0;34m,\u001b[0m \u001b[0ms\u001b[0m\u001b[0;34m=\u001b[0m\u001b[0;36m50\u001b[0m\u001b[0;34m,\u001b[0m \u001b[0medgecolors\u001b[0m\u001b[0;34m=\u001b[0m\u001b[0;34m'k'\u001b[0m\u001b[0;34m)\u001b[0m\u001b[0;34m\u001b[0m\u001b[0;34m\u001b[0m\u001b[0m\n\u001b[1;32m      5\u001b[0m \u001b[0max\u001b[0m\u001b[0;34m.\u001b[0m\u001b[0mset_xlim\u001b[0m\u001b[0;34m(\u001b[0m\u001b[0mxx\u001b[0m\u001b[0;34m.\u001b[0m\u001b[0mmin\u001b[0m\u001b[0;34m(\u001b[0m\u001b[0;34m)\u001b[0m\u001b[0;34m,\u001b[0m \u001b[0mxx\u001b[0m\u001b[0;34m.\u001b[0m\u001b[0mmax\u001b[0m\u001b[0;34m(\u001b[0m\u001b[0;34m)\u001b[0m\u001b[0;34m)\u001b[0m\u001b[0;34m\u001b[0m\u001b[0;34m\u001b[0m\u001b[0m\n",
            "\u001b[0;32m<ipython-input-83-8120d11c5548>\u001b[0m in \u001b[0;36mplot_contours\u001b[0;34m(ax, clf, xx, yy, **params)\u001b[0m\n\u001b[1;32m      1\u001b[0m \u001b[0;32mdef\u001b[0m \u001b[0mplot_contours\u001b[0m\u001b[0;34m(\u001b[0m\u001b[0max\u001b[0m\u001b[0;34m,\u001b[0m \u001b[0mclf\u001b[0m\u001b[0;34m,\u001b[0m \u001b[0mxx\u001b[0m\u001b[0;34m,\u001b[0m \u001b[0myy\u001b[0m\u001b[0;34m,\u001b[0m \u001b[0;34m**\u001b[0m\u001b[0mparams\u001b[0m\u001b[0;34m)\u001b[0m\u001b[0;34m:\u001b[0m\u001b[0;34m\u001b[0m\u001b[0;34m\u001b[0m\u001b[0m\n\u001b[0;32m----> 2\u001b[0;31m     \u001b[0mZ\u001b[0m \u001b[0;34m=\u001b[0m \u001b[0mclf\u001b[0m\u001b[0;34m.\u001b[0m\u001b[0mpredict\u001b[0m\u001b[0;34m(\u001b[0m\u001b[0mnp\u001b[0m\u001b[0;34m.\u001b[0m\u001b[0mc_\u001b[0m\u001b[0;34m[\u001b[0m\u001b[0mxx\u001b[0m\u001b[0;34m.\u001b[0m\u001b[0mravel\u001b[0m\u001b[0;34m(\u001b[0m\u001b[0;34m)\u001b[0m\u001b[0;34m,\u001b[0m \u001b[0myy\u001b[0m\u001b[0;34m.\u001b[0m\u001b[0mravel\u001b[0m\u001b[0;34m(\u001b[0m\u001b[0;34m)\u001b[0m\u001b[0;34m]\u001b[0m\u001b[0;34m)\u001b[0m\u001b[0;34m\u001b[0m\u001b[0;34m\u001b[0m\u001b[0m\n\u001b[0m\u001b[1;32m      3\u001b[0m     \u001b[0mZ\u001b[0m \u001b[0;34m=\u001b[0m \u001b[0mZ\u001b[0m\u001b[0;34m.\u001b[0m\u001b[0mreshape\u001b[0m\u001b[0;34m(\u001b[0m\u001b[0mxx\u001b[0m\u001b[0;34m.\u001b[0m\u001b[0mshape\u001b[0m\u001b[0;34m)\u001b[0m\u001b[0;34m\u001b[0m\u001b[0;34m\u001b[0m\u001b[0m\n\u001b[1;32m      4\u001b[0m     \u001b[0mout\u001b[0m \u001b[0;34m=\u001b[0m \u001b[0max\u001b[0m\u001b[0;34m.\u001b[0m\u001b[0mcontourf\u001b[0m\u001b[0;34m(\u001b[0m\u001b[0mxx\u001b[0m\u001b[0;34m,\u001b[0m \u001b[0myy\u001b[0m\u001b[0;34m,\u001b[0m \u001b[0mZ\u001b[0m\u001b[0;34m,\u001b[0m \u001b[0;34m**\u001b[0m\u001b[0mparams\u001b[0m\u001b[0;34m)\u001b[0m\u001b[0;34m\u001b[0m\u001b[0;34m\u001b[0m\u001b[0m\n\u001b[1;32m      5\u001b[0m     \u001b[0;32mreturn\u001b[0m \u001b[0mout\u001b[0m\u001b[0;34m\u001b[0m\u001b[0;34m\u001b[0m\u001b[0m\n",
            "\u001b[0;32m/usr/local/lib/python3.7/dist-packages/sklearn/svm/_base.py\u001b[0m in \u001b[0;36mpredict\u001b[0;34m(self, X)\u001b[0m\n\u001b[1;32m    592\u001b[0m             \u001b[0my\u001b[0m \u001b[0;34m=\u001b[0m \u001b[0mnp\u001b[0m\u001b[0;34m.\u001b[0m\u001b[0margmax\u001b[0m\u001b[0;34m(\u001b[0m\u001b[0mself\u001b[0m\u001b[0;34m.\u001b[0m\u001b[0mdecision_function\u001b[0m\u001b[0;34m(\u001b[0m\u001b[0mX\u001b[0m\u001b[0;34m)\u001b[0m\u001b[0;34m,\u001b[0m \u001b[0maxis\u001b[0m\u001b[0;34m=\u001b[0m\u001b[0;36m1\u001b[0m\u001b[0;34m)\u001b[0m\u001b[0;34m\u001b[0m\u001b[0;34m\u001b[0m\u001b[0m\n\u001b[1;32m    593\u001b[0m         \u001b[0;32melse\u001b[0m\u001b[0;34m:\u001b[0m\u001b[0;34m\u001b[0m\u001b[0;34m\u001b[0m\u001b[0m\n\u001b[0;32m--> 594\u001b[0;31m             \u001b[0my\u001b[0m \u001b[0;34m=\u001b[0m \u001b[0msuper\u001b[0m\u001b[0;34m(\u001b[0m\u001b[0;34m)\u001b[0m\u001b[0;34m.\u001b[0m\u001b[0mpredict\u001b[0m\u001b[0;34m(\u001b[0m\u001b[0mX\u001b[0m\u001b[0;34m)\u001b[0m\u001b[0;34m\u001b[0m\u001b[0;34m\u001b[0m\u001b[0m\n\u001b[0m\u001b[1;32m    595\u001b[0m         \u001b[0;32mreturn\u001b[0m \u001b[0mself\u001b[0m\u001b[0;34m.\u001b[0m\u001b[0mclasses_\u001b[0m\u001b[0;34m.\u001b[0m\u001b[0mtake\u001b[0m\u001b[0;34m(\u001b[0m\u001b[0mnp\u001b[0m\u001b[0;34m.\u001b[0m\u001b[0masarray\u001b[0m\u001b[0;34m(\u001b[0m\u001b[0my\u001b[0m\u001b[0;34m,\u001b[0m \u001b[0mdtype\u001b[0m\u001b[0;34m=\u001b[0m\u001b[0mnp\u001b[0m\u001b[0;34m.\u001b[0m\u001b[0mintp\u001b[0m\u001b[0;34m)\u001b[0m\u001b[0;34m)\u001b[0m\u001b[0;34m\u001b[0m\u001b[0;34m\u001b[0m\u001b[0m\n\u001b[1;32m    596\u001b[0m \u001b[0;34m\u001b[0m\u001b[0m\n",
            "\u001b[0;32m/usr/local/lib/python3.7/dist-packages/sklearn/svm/_base.py\u001b[0m in \u001b[0;36mpredict\u001b[0;34m(self, X)\u001b[0m\n\u001b[1;32m    313\u001b[0m         \u001b[0my_pred\u001b[0m \u001b[0;34m:\u001b[0m \u001b[0marray\u001b[0m\u001b[0;34m,\u001b[0m \u001b[0mshape\u001b[0m \u001b[0;34m(\u001b[0m\u001b[0mn_samples\u001b[0m\u001b[0;34m,\u001b[0m\u001b[0;34m)\u001b[0m\u001b[0;34m\u001b[0m\u001b[0;34m\u001b[0m\u001b[0m\n\u001b[1;32m    314\u001b[0m         \"\"\"\n\u001b[0;32m--> 315\u001b[0;31m         \u001b[0mX\u001b[0m \u001b[0;34m=\u001b[0m \u001b[0mself\u001b[0m\u001b[0;34m.\u001b[0m\u001b[0m_validate_for_predict\u001b[0m\u001b[0;34m(\u001b[0m\u001b[0mX\u001b[0m\u001b[0;34m)\u001b[0m\u001b[0;34m\u001b[0m\u001b[0;34m\u001b[0m\u001b[0m\n\u001b[0m\u001b[1;32m    316\u001b[0m         \u001b[0mpredict\u001b[0m \u001b[0;34m=\u001b[0m \u001b[0mself\u001b[0m\u001b[0;34m.\u001b[0m\u001b[0m_sparse_predict\u001b[0m \u001b[0;32mif\u001b[0m \u001b[0mself\u001b[0m\u001b[0;34m.\u001b[0m\u001b[0m_sparse\u001b[0m \u001b[0;32melse\u001b[0m \u001b[0mself\u001b[0m\u001b[0;34m.\u001b[0m\u001b[0m_dense_predict\u001b[0m\u001b[0;34m\u001b[0m\u001b[0;34m\u001b[0m\u001b[0m\n\u001b[1;32m    317\u001b[0m         \u001b[0;32mreturn\u001b[0m \u001b[0mpredict\u001b[0m\u001b[0;34m(\u001b[0m\u001b[0mX\u001b[0m\u001b[0;34m)\u001b[0m\u001b[0;34m\u001b[0m\u001b[0;34m\u001b[0m\u001b[0m\n",
            "\u001b[0;32m/usr/local/lib/python3.7/dist-packages/sklearn/svm/_base.py\u001b[0m in \u001b[0;36m_validate_for_predict\u001b[0;34m(self, X)\u001b[0m\n\u001b[1;32m    465\u001b[0m             raise ValueError(\"X.shape[1] = %d should be equal to %d, \"\n\u001b[1;32m    466\u001b[0m                              \u001b[0;34m\"the number of features at training time\"\u001b[0m \u001b[0;34m%\u001b[0m\u001b[0;34m\u001b[0m\u001b[0;34m\u001b[0m\u001b[0m\n\u001b[0;32m--> 467\u001b[0;31m                              (n_features, self.shape_fit_[1]))\n\u001b[0m\u001b[1;32m    468\u001b[0m         \u001b[0;32mreturn\u001b[0m \u001b[0mX\u001b[0m\u001b[0;34m\u001b[0m\u001b[0;34m\u001b[0m\u001b[0m\n\u001b[1;32m    469\u001b[0m \u001b[0;34m\u001b[0m\u001b[0m\n",
            "\u001b[0;31mValueError\u001b[0m: X.shape[1] = 2 should be equal to 9, the number of features at training time"
          ]
        },
        {
          "output_type": "display_data",
          "data": {
            "image/png": "[encoded data removed]",
            "text/plain": [
              "<Figure size 720x720 with 1 Axes>"
            ]
          },
          "metadata": {
            "tags": [],
            "needs_background": "light"
          }
        }
      ]
    },
    {
      "cell_type": "code",
      "metadata": {
        "id": "k-k2kbM8EKKc"
      },
      "source": [
        "X0, X1 = training_values_transformed[:, 0], training_values_transformed[:, 1]\n",
        "xx, yy = make_meshgrid(X0, X1)"
      ],
      "execution_count": null,
      "outputs": []
    },
    {
      "cell_type": "code",
      "metadata": {
        "id": "yn69egVMPWdt"
      },
      "source": [
        "np.c_[xx.ravel(), yy.ravel()]"
      ],
      "execution_count": null,
      "outputs": []
    },
    {
      "cell_type": "code",
      "metadata": {
        "id": "UlqpGiTIGgO5"
      },
      "source": [
        "svm_model = SVC()\n",
        "svm_model.fit(training_values_transformed, training_labels)"
      ],
      "execution_count": null,
      "outputs": []
    },
    {
      "cell_type": "code",
      "metadata": {
        "id": "xkpkNPm8EXAN"
      },
      "source": [
        "fig = plt.figure(figsize=(10, 10))\n",
        "ax = fig.add_subplot(111)\n",
        "plot_contours(ax, svm_model, xx, yy, cmap=plt.cm.coolwarm, alpha=0.2)\n",
        "ax.scatter(X0, X1, c=training_labels['diagnosis_label'], cmap=plt.cm.coolwarm, alpha=0.5, s=50, edgecolors='k')\n",
        "ax.set_xlim(xx.min(), xx.max())\n",
        "ax.set_ylim(yy.min(), yy.max())\n",
        "ax.set_xlabel('Principal Component 1')\n",
        "ax.set_ylabel('Principal Component 2')\n",
        "ax.set_xticks(())\n",
        "ax.set_yticks(())\n",
        "ax.set_title('Malignant vs. Benign SVM')\n",
        "plt.show()"
      ],
      "execution_count": null,
      "outputs": []
    },
    {
      "cell_type": "code",
      "metadata": {
        "id": "f8Z87__L7Jsm"
      },
      "source": [
        "training_idx = ((training_labels==0).values)[:,0]"
      ],
      "execution_count": null,
      "outputs": []
    },
    {
      "cell_type": "code",
      "metadata": {
        "id": "TFc219ccEX7E"
      },
      "source": [
        "fig = plt.figure(figsize=(12, 12))\n",
        "ax = fig.add_subplot(111)\n",
        "\n",
        "plot_contours(ax, svm_model, xx, yy, cmap=plt.cm.coolwarm, alpha=0.2)\n",
        "training_points_malig = ax.scatter(X0[training_idx], X1[training_idx], cmap=plt.cm.coolwarm, alpha=0.25, s=50, edgecolors='k')\n",
        "training_points_benign = ax.scatter(X0[~training_idx], X1[~training_idx], cmap=plt.cm.coolwarm, alpha=0.25, s=50, edgecolors='k')\n",
        "#testing_points = ax.scatter(testing_values_transformed[:,0], testing_values_transformed[:,1], c='k', alpha=0.75, s=50, edgecolors='k')\n",
        "ax.set_xlim(xx.min(), xx.max())\n",
        "ax.set_ylim(yy.min(), yy.max())\n",
        "ax.set_xlabel('Principal Component 1')\n",
        "ax.set_ylabel('Principal Component 2')\n",
        "ax.set_xticks(())\n",
        "ax.set_yticks(())\n",
        "ax.set_title('Malignant vs. Benign SVM')\n",
        "#ax.legend((training_points_malig, training_points_benign, testing_points), ('Malignant', 'Benign', 'Testing'))\n",
        "ax.legend((training_points_malig, training_points_benign), ('Malignant', 'Benign'))\n",
        "plt.show()"
      ],
      "execution_count": null,
      "outputs": []
    },
    {
      "cell_type": "code",
      "metadata": {
        "id": "4yI24FiJ6G1D"
      },
      "source": [
        ""
      ],
      "execution_count": null,
      "outputs": []
    },
    {
      "cell_type": "code",
      "metadata": {
        "id": "WiFDRgCu5lAc"
      },
      "source": [
        "training_points_benign = ax.scatter(X0[training_idx], X1[training_idx], cmap=plt.cm.coolwarm, alpha=0.5, s=50, edgecolors='k')\n",
        "training_points_malignant = ax.scatter(X0[~training_idx], X1[~training_idx], cmap=plt.cm.coolwarm, alpha=0.5, s=50, edgecolors='k')"
      ],
      "execution_count": null,
      "outputs": []
    },
    {
      "cell_type": "code",
      "metadata": {
        "id": "A0TK4XM45mbu"
      },
      "source": [
        ""
      ],
      "execution_count": null,
      "outputs": []
    }
  ]
}